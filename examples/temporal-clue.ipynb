{
 "cells": [
  {
   "cell_type": "code",
   "execution_count": 2,
   "metadata": {},
   "outputs": [
    {
     "data": {
      "text/plain": [
       "'Hello from agent-reinforcement-training!'"
      ]
     },
     "execution_count": 2,
     "metadata": {},
     "output_type": "execute_result"
    }
   ],
   "source": [
    "import art\n",
    "import asyncio\n",
    "import json\n",
    "import random\n",
    "import re\n",
    "from typing import TypedDict\n",
    "\n",
    "\n",
    "class TemporalCluePuzzle(TypedDict):\n",
    "    num_clues: int\n",
    "    prompt: str\n",
    "    solution: dict[str, str]\n",
    "\n",
    "\n",
    "puzzles: list[TemporalCluePuzzle] = json.load(open(\"./data/temporal-clue/puzzles.json\"))\n",
    "val_puzzles = puzzles[:64]\n",
    "test_puzzles = puzzles[64:128]\n",
    "train_puzzles = puzzles[128:]\n",
    "random.seed(42)\n",
    "random.shuffle(train_puzzles)\n",
    "\n",
    "\n",
    "model = await art.get_or_create_model(\n",
    "    name=\"temporal-clue\", base_model=\"Qwen/Qwen2.5-7B-Instruct\"\n",
    ")\n",
    "\n",
    "\n",
    "async def rollout(puzzle: TemporalCluePuzzle) -> art.Trajectory:\n",
    "    messages: art.Messages = [{\"role\": \"user\", \"content\": puzzle[\"prompt\"]}]\n",
    "    chat_completion = await art.client.chat.completions.create(\n",
    "        messages=messages,\n",
    "        model=model,\n",
    "    )\n",
    "    choice = chat_completion.choices[0]\n",
    "    messages.append(choice)\n",
    "    content = choice.message.content\n",
    "    assert isinstance(content, str)\n",
    "    num_correct = 0\n",
    "    for key, value in puzzle[\"solution\"].items():\n",
    "        if matches := re.findall(rf\"{key}\\. ([A-Za-z \\.:-]+)\", content):\n",
    "            match = matches[-1]\n",
    "            if match.strip().lower() == value.lower():\n",
    "                num_correct += 1\n",
    "    accuracy = num_correct / len(puzzle[\"solution\"])\n",
    "    return art.Trajectory(messages=messages, reward=accuracy)\n",
    "\n",
    "\n",
    "stride = 32\n",
    "for i in range(model.iteration, 1_000):\n",
    "    val_groups, train_groups = await asyncio.gather(\n",
    "        asyncio.gather(\n",
    "            *(\n",
    "                asyncio.gather(*(rollout(puzzle) for _ in range(2)))\n",
    "                for puzzle in val_puzzles\n",
    "            )\n",
    "        ),\n",
    "        asyncio.gather(\n",
    "            *(\n",
    "                asyncio.gather(*(rollout(puzzle) for _ in range(64)))\n",
    "                for puzzle in train_puzzles[i * stride : (i + 1) * stride]\n",
    "            )\n",
    "        ),\n",
    "    )\n",
    "    _, _ = await asyncio.gather(\n",
    "        model.save_eval(val_groups),\n",
    "        model.tune(train_groups),\n",
    "    )"
   ]
  }
 ],
 "metadata": {
  "kernelspec": {
   "display_name": ".venv",
   "language": "python",
   "name": "python3"
  },
  "language_info": {
   "codemirror_mode": {
    "name": "ipython",
    "version": 3
   },
   "file_extension": ".py",
   "mimetype": "text/x-python",
   "name": "python",
   "nbconvert_exporter": "python",
   "pygments_lexer": "ipython3",
   "version": "3.12.6"
  }
 },
 "nbformat": 4,
 "nbformat_minor": 2
}
