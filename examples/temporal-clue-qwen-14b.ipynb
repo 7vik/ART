{
 "cells": [
  {
   "cell_type": "code",
   "execution_count": 1,
   "metadata": {},
   "outputs": [],
   "source": [
    "%load_ext autoreload\n",
    "%autoreload 2"
   ]
  },
  {
   "cell_type": "code",
   "execution_count": 2,
   "metadata": {},
   "outputs": [
    {
     "data": {
      "text/html": [
       "<style>\n",
       ".cell-output-ipywidget-background {\n",
       "    background-color: transparent !important;\n",
       "}\n",
       ":root {\n",
       "    --jp-widgets-color: var(--vscode-editor-foreground);\n",
       "    --jp-widgets-font-size: var(--vscode-editor-font-size);\n",
       "}  \n",
       "</style>\n"
      ],
      "text/plain": [
       "<IPython.core.display.HTML object>"
      ]
     },
     "metadata": {},
     "output_type": "display_data"
    }
   ],
   "source": [
    "%%html\n",
    "<style>\n",
    ".cell-output-ipywidget-background {\n",
    "    background-color: transparent !important;\n",
    "}\n",
    ":root {\n",
    "    --jp-widgets-color: var(--vscode-editor-foreground);\n",
    "    --jp-widgets-font-size: var(--vscode-editor-font-size);\n",
    "}  \n",
    "</style>"
   ]
  },
  {
   "cell_type": "code",
   "execution_count": null,
   "metadata": {},
   "outputs": [
    {
     "name": "stdout",
     "output_type": "stream",
     "text": [
      "$ vllm serve Qwen/Qwen2.5-14B-Instruct --block-size=32 --disable-log-requests --enable-chunked-prefill --enable-prefix-caching --enforce-eager --gpu-memory-utilization=0.95 --max-num-seqs=4096 --max-num-batched-tokens=16384 --num-scheduler-steps=16 --preemption-mode=swap --return-tokens-as-token-ids --swap-space=80 --tensor-parallel-size=2 --tool-call-parser=hermes --served-model-name=temporal-clue-002 --port=8000 --api-key=default\n",
      "INFO 03-14 01:55:08 __init__.py:207] Automatically detected platform cuda.\n",
      "INFO 03-14 01:55:08 api_server.py:912] vLLM API server version 0.7.3\n",
      "INFO 03-14 01:55:08 api_server.py:913] args: Namespace(subparser='serve', model_tag='Qwen/Qwen2.5-14B-Instruct', config='', host=None, port=8000, uvicorn_log_level='info', allow_credentials=False, allowed_origins=['*'], allowed_methods=['*'], allowed_headers=['*'], api_key='default', lora_modules=None, prompt_adapters=None, chat_template=None, chat_template_content_format='auto', response_role='assistant', ssl_keyfile=None, ssl_certfile=None, ssl_ca_certs=None, ssl_cert_reqs=0, root_path=None, middleware=[], return_tokens_as_token_ids=True, disable_frontend_multiprocessing=False, enable_request_id_headers=False, enable_auto_tool_choice=False, enable_reasoning=False, reasoning_parser=None, tool_call_parser='hermes', tool_parser_plugin='', model='Qwen/Qwen2.5-14B-Instruct', task='auto', tokenizer=None, skip_tokenizer_init=False, revision=None, code_revision=None, tokenizer_revision=None, tokenizer_mode='auto', trust_remote_code=False, allowed_local_media_path=None, download_dir=None, load_format='auto', config_format=<ConfigFormat.AUTO: 'auto'>, dtype='auto', kv_cache_dtype='auto', max_model_len=None, guided_decoding_backend='xgrammar', logits_processor_pattern=None, model_impl='auto', distributed_executor_backend=None, pipeline_parallel_size=1, tensor_parallel_size=2, max_parallel_loading_workers=None, ray_workers_use_nsight=False, block_size=32, enable_prefix_caching=True, disable_sliding_window=False, use_v2_block_manager=True, num_lookahead_slots=0, seed=0, swap_space=80.0, cpu_offload_gb=0, gpu_memory_utilization=0.95, num_gpu_blocks_override=None, max_num_batched_tokens=16384, max_num_partial_prefills=1, max_long_partial_prefills=1, long_prefill_token_threshold=0, max_num_seqs=4096, max_logprobs=20, disable_log_stats=False, quantization=None, rope_scaling=None, rope_theta=None, hf_overrides=None, enforce_eager=True, max_seq_len_to_capture=8192, disable_custom_all_reduce=False, tokenizer_pool_size=0, tokenizer_pool_type='ray', tokenizer_pool_extra_config=None, limit_mm_per_prompt=None, mm_processor_kwargs=None, disable_mm_preprocessor_cache=False, enable_lora=False, enable_lora_bias=False, max_loras=1, max_lora_rank=16, lora_extra_vocab_size=256, lora_dtype='auto', long_lora_scaling_factors=None, max_cpu_loras=None, fully_sharded_loras=False, enable_prompt_adapter=False, max_prompt_adapters=1, max_prompt_adapter_token=0, device='auto', num_scheduler_steps=16, multi_step_stream_outputs=True, scheduler_delay_factor=0.0, enable_chunked_prefill=True, speculative_model=None, speculative_model_quantization=None, num_speculative_tokens=None, speculative_disable_mqa_scorer=False, speculative_draft_tensor_parallel_size=None, speculative_max_model_len=None, speculative_disable_by_batch_size=None, ngram_prompt_lookup_max=None, ngram_prompt_lookup_min=None, spec_decoding_acceptance_method='rejection_sampler', typical_acceptance_sampler_posterior_threshold=None, typical_acceptance_sampler_posterior_alpha=None, disable_logprobs_during_spec_decoding=None, model_loader_extra_config=None, ignore_patterns=[], preemption_mode='swap', served_model_name=['temporal-clue-002'], qlora_adapter_name_or_path=None, otlp_traces_endpoint=None, collect_detailed_traces=None, disable_async_output_proc=False, scheduling_policy='fcfs', scheduler_cls='vllm.core.scheduler.Scheduler', override_neuron_config=None, override_pooler_config=None, compilation_config=None, kv_transfer_config=None, worker_cls='auto', generation_config=None, override_generation_config=None, enable_sleep_mode=False, calculate_kv_scales=False, additional_config=None, disable_log_requests=True, max_log_len=None, disable_fastapi_docs=False, enable_prompt_tokens_details=False, dispatch_function=<function ServeSubcommand.cmd at 0x7c0ae64b4540>)\n",
      "INFO 03-14 01:55:08 api_server.py:209] Started engine process with PID 67111\n",
      "INFO 03-14 01:55:11 __init__.py:207] Automatically detected platform cuda.\n",
      "INFO 03-14 01:55:13 config.py:549] This model supports multiple tasks: {'classify', 'embed', 'reward', 'generate', 'score'}. Defaulting to 'generate'.\n",
      "INFO 03-14 01:55:13 config.py:1382] Defaulting to use mp for distributed inference\n",
      "INFO 03-14 01:55:13 config.py:1555] Chunked prefill is enabled with max_num_batched_tokens=16384.\n",
      "WARNING 03-14 01:55:13 cuda.py:95] To see benefits of async output processing, enable CUDA graph. Since, enforce-eager is enabled, async output processor cannot be used\n",
      "WARNING 03-14 01:55:13 config.py:685] Async output processing is not supported on the current platform type cuda.\n",
      "INFO 03-14 01:55:17 config.py:549] This model supports multiple tasks: {'generate', 'reward', 'embed', 'score', 'classify'}. Defaulting to 'generate'.\n",
      "INFO 03-14 01:55:17 config.py:1382] Defaulting to use mp for distributed inference\n",
      "INFO 03-14 01:55:17 config.py:1555] Chunked prefill is enabled with max_num_batched_tokens=16384.\n",
      "WARNING 03-14 01:55:17 cuda.py:95] To see benefits of async output processing, enable CUDA graph. Since, enforce-eager is enabled, async output processor cannot be used\n",
      "WARNING 03-14 01:55:17 config.py:685] Async output processing is not supported on the current platform type cuda.\n",
      "INFO 03-14 01:55:17 llm_engine.py:234] Initializing a V0 LLM engine (v0.7.3) with config: model='Qwen/Qwen2.5-14B-Instruct', speculative_config=None, tokenizer='Qwen/Qwen2.5-14B-Instruct', skip_tokenizer_init=False, tokenizer_mode=auto, revision=None, override_neuron_config=None, tokenizer_revision=None, trust_remote_code=False, dtype=torch.bfloat16, max_seq_len=32768, download_dir=None, load_format=LoadFormat.AUTO, tensor_parallel_size=2, pipeline_parallel_size=1, disable_custom_all_reduce=False, quantization=None, enforce_eager=True, kv_cache_dtype=auto,  device_config=cuda, decoding_config=DecodingConfig(guided_decoding_backend='xgrammar'), observability_config=ObservabilityConfig(otlp_traces_endpoint=None, collect_model_forward_time=False, collect_model_execute_time=False), seed=0, served_model_name=temporal-clue-002, num_scheduler_steps=16, multi_step_stream_outputs=True, enable_prefix_caching=True, chunked_prefill_enabled=True, use_async_output_proc=False, disable_mm_preprocessor_cache=False, mm_processor_kwargs=None, pooler_config=None, compilation_config={\"splitting_ops\":[],\"compile_sizes\":[],\"cudagraph_capture_sizes\":[],\"max_capture_size\":0}, use_cached_outputs=True, \n",
      "WARNING 03-14 01:55:17 multiproc_worker_utils.py:300] Reducing Torch parallelism from 26 threads to 1 to avoid unnecessary CPU contention. Set OMP_NUM_THREADS in the external environment to tune this value as needed.\n",
      "INFO 03-14 01:55:17 custom_cache_manager.py:19] Setting Triton cache manager to: vllm.triton_utils.custom_cache_manager:CustomCacheManager\n",
      "INFO 03-14 01:55:18 cuda.py:229] Using Flash Attention backend.\n",
      "WARNING 03-14 01:55:18 registry.py:335] `mm_limits` has already been set for model=Qwen/Qwen2.5-14B-Instruct, and will be overwritten by the new values.\n",
      "INFO 03-14 01:55:21 __init__.py:207] Automatically detected platform cuda.\n",
      "\u001b[1;36m(VllmWorkerProcess pid=67380)\u001b[0;0m INFO 03-14 01:55:21 multiproc_worker_utils.py:229] Worker ready; awaiting tasks\n",
      "\u001b[1;36m(VllmWorkerProcess pid=67380)\u001b[0;0m INFO 03-14 01:55:21 cuda.py:229] Using Flash Attention backend.\n",
      "\u001b[1;36m(VllmWorkerProcess pid=67380)\u001b[0;0m WARNING 03-14 01:55:21 registry.py:335] `mm_limits` has already been set for model=Qwen/Qwen2.5-14B-Instruct, and will be overwritten by the new values.\n",
      "\u001b[1;36m(VllmWorkerProcess pid=67380)\u001b[0;0m INFO 03-14 01:55:22 utils.py:916] Found nccl from library libnccl.so.2\n",
      "INFO 03-14 01:55:22 utils.py:916] Found nccl from library libnccl.so.2\n",
      "\u001b[1;36m(VllmWorkerProcess pid=67380)\u001b[0;0m INFO 03-14 01:55:22 pynccl.py:69] vLLM is using nccl==2.21.5\n",
      "INFO 03-14 01:55:22 pynccl.py:69] vLLM is using nccl==2.21.5\n",
      "\u001b[1;36m(VllmWorkerProcess pid=67380)\u001b[0;0m INFO 03-14 01:55:23 custom_all_reduce_utils.py:244] reading GPU P2P access cache from /home/gcpuser/.cache/vllm/gpu_p2p_access_cache_for_0,1.json\n",
      "INFO 03-14 01:55:23 custom_all_reduce_utils.py:244] reading GPU P2P access cache from /home/gcpuser/.cache/vllm/gpu_p2p_access_cache_for_0,1.json\n",
      "INFO 03-14 01:55:23 shm_broadcast.py:258] vLLM message queue communication handle: Handle(connect_ip='127.0.0.1', local_reader_ranks=[1], buffer_handle=(1, 4194304, 6, 'psm_36af13cc'), local_subscribe_port=59013, remote_subscribe_port=None)\n",
      "INFO 03-14 01:55:23 model_runner.py:1110] Starting to load model Qwen/Qwen2.5-14B-Instruct...\n",
      "\u001b[1;36m(VllmWorkerProcess pid=67380)\u001b[0;0m INFO 03-14 01:55:23 model_runner.py:1110] Starting to load model Qwen/Qwen2.5-14B-Instruct...\n",
      "INFO 03-14 01:55:23 weight_utils.py:254] Using model weights format ['*.safetensors']\n",
      "\u001b[1;36m(VllmWorkerProcess pid=67380)\u001b[0;0m INFO 03-14 01:55:23 weight_utils.py:254] Using model weights format ['*.safetensors']\n"
     ]
    },
    {
     "name": "stderr",
     "output_type": "stream",
     "text": [
      "Loading safetensors checkpoint shards:   0% Completed | 0/8 [00:00<?, ?it/s]\n",
      "Loading safetensors checkpoint shards:  12% Completed | 1/8 [00:00<00:04,  1.73it/s]\n",
      "Loading safetensors checkpoint shards:  25% Completed | 2/8 [00:01<00:03,  1.69it/s]\n",
      "Loading safetensors checkpoint shards:  38% Completed | 3/8 [00:01<00:02,  1.69it/s]\n",
      "Loading safetensors checkpoint shards:  50% Completed | 4/8 [00:01<00:01,  2.32it/s]\n",
      "Loading safetensors checkpoint shards:  62% Completed | 5/8 [00:02<00:01,  2.07it/s]\n",
      "Loading safetensors checkpoint shards:  75% Completed | 6/8 [00:03<00:00,  2.08it/s]\n",
      "Loading safetensors checkpoint shards:  88% Completed | 7/8 [00:03<00:00,  1.90it/s]\n",
      "Loading safetensors checkpoint shards: 100% Completed | 8/8 [00:04<00:00,  1.82it/s]\n",
      "Loading safetensors checkpoint shards: 100% Completed | 8/8 [00:04<00:00,  1.89it/s]\n",
      "\n"
     ]
    },
    {
     "name": "stdout",
     "output_type": "stream",
     "text": [
      "INFO 03-14 01:55:27 model_runner.py:1115] Loading model weights took 13.9281 GB\n",
      "\u001b[1;36m(VllmWorkerProcess pid=67380)\u001b[0;0m INFO 03-14 01:55:28 model_runner.py:1115] Loading model weights took 13.9281 GB\n",
      "\u001b[1;36m(VllmWorkerProcess pid=67380)\u001b[0;0m INFO 03-14 01:55:30 worker.py:267] Memory profiling takes 2.75 seconds\n",
      "\u001b[1;36m(VllmWorkerProcess pid=67380)\u001b[0;0m INFO 03-14 01:55:30 worker.py:267] the current vLLM instance can use total_gpu_memory (79.11GiB) x gpu_memory_utilization (0.95) = 75.15GiB\n",
      "\u001b[1;36m(VllmWorkerProcess pid=67380)\u001b[0;0m INFO 03-14 01:55:30 worker.py:267] model weights take 13.93GiB; non_torch_memory takes 1.57GiB; PyTorch activation peak memory takes 1.45GiB; the rest of the memory reserved for KV Cache is 58.21GiB.\n",
      "INFO 03-14 01:55:31 worker.py:267] Memory profiling takes 3.03 seconds\n",
      "INFO 03-14 01:55:31 worker.py:267] the current vLLM instance can use total_gpu_memory (79.11GiB) x gpu_memory_utilization (0.95) = 75.15GiB\n",
      "INFO 03-14 01:55:31 worker.py:267] model weights take 13.93GiB; non_torch_memory takes 1.82GiB; PyTorch activation peak memory takes 22.23GiB; the rest of the memory reserved for KV Cache is 37.17GiB.\n",
      "INFO 03-14 01:55:31 executor_base.py:111] # cuda blocks: 12688, # CPU blocks: 27306\n",
      "INFO 03-14 01:55:31 executor_base.py:116] Maximum concurrency for 32768 tokens per request: 12.39x\n",
      "INFO 03-14 01:56:17 llm_engine.py:436] init engine (profile, create kv cache, warmup model) took 49.65 seconds\n",
      "INFO 03-14 01:56:18 api_server.py:958] Starting vLLM API server on http://0.0.0.0:8000\n",
      "INFO 03-14 01:56:18 launcher.py:23] Available routes are:\n",
      "INFO 03-14 01:56:18 launcher.py:31] Route: /openapi.json, Methods: GET, HEAD\n",
      "INFO 03-14 01:56:18 launcher.py:31] Route: /docs, Methods: GET, HEAD\n",
      "INFO 03-14 01:56:18 launcher.py:31] Route: /docs/oauth2-redirect, Methods: GET, HEAD\n",
      "INFO 03-14 01:56:18 launcher.py:31] Route: /redoc, Methods: GET, HEAD\n",
      "INFO 03-14 01:56:18 launcher.py:31] Route: /health, Methods: GET\n",
      "INFO 03-14 01:56:18 launcher.py:31] Route: /ping, Methods: GET, POST\n",
      "INFO 03-14 01:56:18 launcher.py:31] Route: /tokenize, Methods: POST\n",
      "INFO 03-14 01:56:18 launcher.py:31] Route: /detokenize, Methods: POST\n",
      "INFO 03-14 01:56:18 launcher.py:31] Route: /v1/models, Methods: GET\n",
      "INFO 03-14 01:56:18 launcher.py:31] Route: /version, Methods: GET\n",
      "INFO 03-14 01:56:18 launcher.py:31] Route: /v1/chat/completions, Methods: POST\n",
      "INFO 03-14 01:56:18 launcher.py:31] Route: /v1/completions, Methods: POST\n",
      "INFO 03-14 01:56:18 launcher.py:31] Route: /v1/embeddings, Methods: POST\n",
      "INFO 03-14 01:56:18 launcher.py:31] Route: /pooling, Methods: POST\n",
      "INFO 03-14 01:56:18 launcher.py:31] Route: /score, Methods: POST\n",
      "INFO 03-14 01:56:18 launcher.py:31] Route: /v1/score, Methods: POST\n",
      "INFO 03-14 01:56:18 launcher.py:31] Route: /v1/audio/transcriptions, Methods: POST\n",
      "INFO 03-14 01:56:18 launcher.py:31] Route: /rerank, Methods: POST\n",
      "INFO 03-14 01:56:18 launcher.py:31] Route: /v1/rerank, Methods: POST\n",
      "INFO 03-14 01:56:18 launcher.py:31] Route: /v2/rerank, Methods: POST\n",
      "INFO 03-14 01:56:18 launcher.py:31] Route: /invocations, Methods: POST\n"
     ]
    },
    {
     "name": "stderr",
     "output_type": "stream",
     "text": [
      "INFO:     Started server process [66959]\n",
      "INFO:     Waiting for application startup.\n",
      "INFO:     Application startup complete.\n"
     ]
    },
    {
     "name": "stdout",
     "output_type": "stream",
     "text": [
      "INFO 03-14 01:56:21 chat_utils.py:332] Detected the chat template content format to be 'string'. You can set `--chat-template-content-format` to override this.\n",
      "INFO:     127.0.0.1:54644 - \"POST /v1/chat/completions HTTP/1.1\" 200 OK\n",
      "vLLM server started succesfully. Logs can be found at ./logs/vllm.log\n"
     ]
    },
    {
     "data": {
      "application/vnd.jupyter.widget-view+json": {
       "model_id": "7c58101523e54c65bdfd87d5569933b6",
       "version_major": 2,
       "version_minor": 0
      },
      "text/plain": [
       "val:   0%|          | 0/128 [00:00<?, ?it/s]"
      ]
     },
     "metadata": {},
     "output_type": "display_data"
    },
    {
     "data": {
      "application/vnd.jupyter.widget-view+json": {
       "model_id": "63d0eb10fea54851b71a12b0d7c21513",
       "version_major": 2,
       "version_minor": 0
      },
      "text/plain": [
       "train:   0%|          | 0/1600 [00:00<?, ?it/s]"
      ]
     },
     "metadata": {},
     "output_type": "display_data"
    },
    {
     "name": "stderr",
     "output_type": "stream",
     "text": [
      "\u001b[34m\u001b[1mwandb\u001b[0m: Using wandb-core as the SDK backend.  Please refer to https://wandb.me/wandb-core for more information.\n",
      "\u001b[34m\u001b[1mwandb\u001b[0m: Currently logged in as: \u001b[33mbradhilton\u001b[0m to \u001b[32mhttps://api.wandb.ai\u001b[0m. Use \u001b[1m`wandb login --relogin`\u001b[0m to force relogin\n"
     ]
    },
    {
     "data": {
      "text/html": [
       "Tracking run with wandb version 0.19.8"
      ],
      "text/plain": [
       "<IPython.core.display.HTML object>"
      ]
     },
     "metadata": {},
     "output_type": "display_data"
    },
    {
     "data": {
      "text/html": [
       "Run data is saved locally in <code>/home/gcpuser/sky_workdir/examples/wandb/run-20250314_020014-temporal-clue-002</code>"
      ],
      "text/plain": [
       "<IPython.core.display.HTML object>"
      ]
     },
     "metadata": {},
     "output_type": "display_data"
    },
    {
     "data": {
      "text/html": [
       "Resuming run <strong><a href='https://wandb.ai/bradhilton/agent-reinforcement-training/runs/temporal-clue-002' target=\"_blank\">temporal-clue-002</a></strong> to <a href='https://wandb.ai/bradhilton/agent-reinforcement-training' target=\"_blank\">Weights & Biases</a> (<a href='https://wandb.me/developer-guide' target=\"_blank\">docs</a>)<br>"
      ],
      "text/plain": [
       "<IPython.core.display.HTML object>"
      ]
     },
     "metadata": {},
     "output_type": "display_data"
    },
    {
     "data": {
      "text/html": [
       " View project at <a href='https://wandb.ai/bradhilton/agent-reinforcement-training' target=\"_blank\">https://wandb.ai/bradhilton/agent-reinforcement-training</a>"
      ],
      "text/plain": [
       "<IPython.core.display.HTML object>"
      ]
     },
     "metadata": {},
     "output_type": "display_data"
    },
    {
     "data": {
      "text/html": [
       " View run at <a href='https://wandb.ai/bradhilton/agent-reinforcement-training/runs/temporal-clue-002' target=\"_blank\">https://wandb.ai/bradhilton/agent-reinforcement-training/runs/temporal-clue-002</a>"
      ],
      "text/plain": [
       "<IPython.core.display.HTML object>"
      ]
     },
     "metadata": {},
     "output_type": "display_data"
    }
   ],
   "source": [
    "import art\n",
    "import asyncio\n",
    "from dotenv import load_dotenv\n",
    "import json\n",
    "import openai\n",
    "import random\n",
    "import re\n",
    "from typing import TypedDict\n",
    "\n",
    "load_dotenv()\n",
    "\n",
    "\n",
    "class TemporalCluePuzzle(TypedDict):\n",
    "    num_clues: int\n",
    "    prompt: str\n",
    "    solution: dict[str, str]\n",
    "\n",
    "\n",
    "puzzles: list[TemporalCluePuzzle] = json.load(open(\"./data/temporal-clue/puzzles.json\"))\n",
    "val_puzzles = puzzles[:64]\n",
    "test_puzzles = puzzles[64:128]\n",
    "train_puzzles = puzzles[128:]\n",
    "random.seed(42)\n",
    "random.shuffle(train_puzzles)\n",
    "\n",
    "\n",
    "api = art.LocalAPI(wandb_project=\"agent-reinforcement-training\")\n",
    "model = await api.get_or_create_model(\n",
    "    name=\"temporal-clue-002\", base_model=\"Qwen/Qwen2.5-14B-Instruct\"\n",
    ")\n",
    "\n",
    "\n",
    "async def rollout(\n",
    "    client: openai.AsyncOpenAI, puzzle: TemporalCluePuzzle\n",
    ") -> art.Trajectory:\n",
    "    messages: art.Messages = [{\"role\": \"user\", \"content\": puzzle[\"prompt\"]}]\n",
    "    chat_completion = await client.chat.completions.create(\n",
    "        messages=messages, model=model.name\n",
    "    )\n",
    "    choice = chat_completion.choices[0]\n",
    "    content = choice.message.content\n",
    "    assert isinstance(content, str)\n",
    "    num_correct = 0\n",
    "    for key, value in puzzle[\"solution\"].items():\n",
    "        if matches := re.findall(rf\"{key}\\. ([A-Za-z \\.:-]+)\", content):\n",
    "            match = matches[-1]\n",
    "            if match.strip().lower() == value.lower():\n",
    "                num_correct += 1\n",
    "    reward = acc = num_correct / len(puzzle[\"solution\"])\n",
    "    return art.Trajectory(\n",
    "        messages_and_choices=[*messages, choice], reward=reward, metrics={\"acc\": acc}\n",
    "    )\n",
    "\n",
    "\n",
    "stride = 32\n",
    "for i in range(await model.get_iteration(), 1_000):\n",
    "    async with model.openai_client(\n",
    "        estimated_token_usage=850, verbosity=2\n",
    "    ) as openai_client:\n",
    "        val_groups, train_groups = await asyncio.gather(\n",
    "            art.gather_groups(\n",
    "                (\n",
    "                    (rollout(openai_client, puzzle) for _ in range(2))\n",
    "                    for puzzle in val_puzzles\n",
    "                ),\n",
    "                pbar_desc=\"val\",\n",
    "            ),\n",
    "            art.gather_groups(\n",
    "                (\n",
    "                    (rollout(openai_client, puzzle) for _ in range(50))\n",
    "                    for puzzle in train_puzzles[i * stride : (i + 1) * stride]\n",
    "                ),\n",
    "                pbar_desc=\"train\",\n",
    "            ),\n",
    "        )\n",
    "    _, _ = await asyncio.gather(\n",
    "        model.save(val_groups),\n",
    "        model.tune(train_groups, config=art.TuneConfig(plot_tensors=True, verbosity=2)),\n",
    "    )"
   ]
  }
 ],
 "metadata": {
  "kernelspec": {
   "display_name": ".venv",
   "language": "python",
   "name": "python3"
  },
  "language_info": {
   "codemirror_mode": {
    "name": "ipython",
    "version": 3
   },
   "file_extension": ".py",
   "mimetype": "text/x-python",
   "name": "python",
   "nbconvert_exporter": "python",
   "pygments_lexer": "ipython3",
   "version": "3.12.9"
  }
 },
 "nbformat": 4,
 "nbformat_minor": 2
}
