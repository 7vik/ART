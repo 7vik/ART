{
 "cells": [
  {
   "cell_type": "code",
   "execution_count": 5,
   "metadata": {},
   "outputs": [
    {
     "name": "stdout",
     "output_type": "stream",
     "text": [
      "The autoreload extension is already loaded. To reload it, use:\n",
      "  %reload_ext autoreload\n"
     ]
    }
   ],
   "source": [
    "%load_ext autoreload\n",
    "%autoreload 2"
   ]
  },
  {
   "cell_type": "code",
   "execution_count": 6,
   "metadata": {},
   "outputs": [
    {
     "data": {
      "text/html": [
       "<style>\n",
       ".cell-output-ipywidget-background {\n",
       "    background-color: transparent !important;\n",
       "}\n",
       ":root {\n",
       "    --jp-widgets-color: var(--vscode-editor-foreground);\n",
       "    --jp-widgets-font-size: var(--vscode-editor-font-size);\n",
       "}  \n",
       "</style>\n"
      ],
      "text/plain": [
       "<IPython.core.display.HTML object>"
      ]
     },
     "metadata": {},
     "output_type": "display_data"
    }
   ],
   "source": [
    "%%html\n",
    "<style>\n",
    ".cell-output-ipywidget-background {\n",
    "    background-color: transparent !important;\n",
    "}\n",
    ":root {\n",
    "    --jp-widgets-color: var(--vscode-editor-foreground);\n",
    "    --jp-widgets-font-size: var(--vscode-editor-font-size);\n",
    "}  \n",
    "</style>"
   ]
  },
  {
   "cell_type": "code",
   "execution_count": 7,
   "metadata": {},
   "outputs": [
    {
     "name": "stdout",
     "output_type": "stream",
     "text": [
      "OpenPipe client initialized\n"
     ]
    }
   ],
   "source": [
    "import art\n",
    "from dotenv import load_dotenv\n",
    "import random\n",
    "from openpipe.client import OpenPipe\n",
    "\n",
    "load_dotenv()\n",
    "\n",
    "op_client = OpenPipe()\n",
    "print(\"OpenPipe client initialized\")\n",
    "\n",
    "random.seed(42)\n",
    "\n",
    "api = art.UnslothAPI(wandb_project=\"agent-reinforcement-training\")\n",
    "model = await api.get_or_create_model(\n",
    "    name=\"2048-single-turn-interim-reward-001\", base_model=\"Qwen/Qwen2.5-7B-Instruct\"\n",
    ")"
   ]
  },
  {
   "cell_type": "code",
   "execution_count": null,
   "metadata": {},
   "outputs": [
    {
     "data": {
      "application/vnd.jupyter.widget-view+json": {
       "model_id": "d38bb59600e94a32bb7c23d50f7c4fa1",
       "version_major": 2,
       "version_minor": 0
      },
      "text/plain": [
       "train:   0%|          | 0/12 [00:00<?, ?it/s]"
      ]
     },
     "metadata": {},
     "output_type": "display_data"
    },
    {
     "name": "stdout",
     "output_type": "stream",
     "text": [
      "Deleted iteration directory ./.art/models/2048-single-turn-interim-reward-001/0038\n",
      "Packed 130 trajectories into 4 sequences of length 8192\n"
     ]
    },
    {
     "data": {
      "application/vnd.jupyter.widget-view+json": {
       "model_id": "da2729d33b854cb9b1f97f685c592820",
       "version_major": 2,
       "version_minor": 0
      },
      "text/plain": [
       "tune:   0%|          | 0/4 [00:00<?, ?it/s]"
      ]
     },
     "metadata": {},
     "output_type": "display_data"
    },
    {
     "data": {
      "application/vnd.jupyter.widget-view+json": {
       "model_id": "4d187827d8c64d31a2ab37346457d310",
       "version_major": 2,
       "version_minor": 0
      },
      "text/plain": [
       "train:   0%|          | 0/12 [00:00<?, ?it/s]"
      ]
     },
     "metadata": {},
     "output_type": "display_data"
    },
    {
     "name": "stdout",
     "output_type": "stream",
     "text": [
      "Deleted iteration directory ./.art/models/2048-single-turn-interim-reward-001/0039\n",
      "Packed 94 trajectories into 3 sequences of length 8192\n"
     ]
    },
    {
     "data": {
      "application/vnd.jupyter.widget-view+json": {
       "model_id": "015841f8df5042d1abdd3bbbc3e8be72",
       "version_major": 2,
       "version_minor": 0
      },
      "text/plain": [
       "tune:   0%|          | 0/3 [00:00<?, ?it/s]"
      ]
     },
     "metadata": {},
     "output_type": "display_data"
    },
    {
     "data": {
      "application/vnd.jupyter.widget-view+json": {
       "model_id": "1b35cf79e0584da6af627a670c1da1cf",
       "version_major": 2,
       "version_minor": 0
      },
      "text/plain": [
       "train:   0%|          | 0/12 [00:00<?, ?it/s]"
      ]
     },
     "metadata": {},
     "output_type": "display_data"
    },
    {
     "name": "stdout",
     "output_type": "stream",
     "text": [
      "Deleted iteration directory ./.art/models/2048-single-turn-interim-reward-001/0040\n",
      "Packed 114 trajectories into 3 sequences of length 8192\n"
     ]
    },
    {
     "data": {
      "application/vnd.jupyter.widget-view+json": {
       "model_id": "a660b858418a49b2afcb3b26a7def6fb",
       "version_major": 2,
       "version_minor": 0
      },
      "text/plain": [
       "tune:   0%|          | 0/3 [00:00<?, ?it/s]"
      ]
     },
     "metadata": {},
     "output_type": "display_data"
    },
    {
     "data": {
      "application/vnd.jupyter.widget-view+json": {
       "model_id": "5241614765354eda91d316bc07aabcf3",
       "version_major": 2,
       "version_minor": 0
      },
      "text/plain": [
       "train:   0%|          | 0/12 [00:00<?, ?it/s]"
      ]
     },
     "metadata": {},
     "output_type": "display_data"
    },
    {
     "name": "stdout",
     "output_type": "stream",
     "text": [
      "Deleted iteration directory ./.art/models/2048-single-turn-interim-reward-001/0041\n",
      "Packed 128 trajectories into 4 sequences of length 8192\n"
     ]
    },
    {
     "data": {
      "application/vnd.jupyter.widget-view+json": {
       "model_id": "27bf15f1ba8d4e76b29b12a2e46d8b44",
       "version_major": 2,
       "version_minor": 0
      },
      "text/plain": [
       "tune:   0%|          | 0/4 [00:00<?, ?it/s]"
      ]
     },
     "metadata": {},
     "output_type": "display_data"
    },
    {
     "data": {
      "application/vnd.jupyter.widget-view+json": {
       "model_id": "5964f5129fb44baaaae349e5d02f2c34",
       "version_major": 2,
       "version_minor": 0
      },
      "text/plain": [
       "train:   0%|          | 0/12 [00:00<?, ?it/s]"
      ]
     },
     "metadata": {},
     "output_type": "display_data"
    },
    {
     "name": "stdout",
     "output_type": "stream",
     "text": [
      "Deleted iteration directory ./.art/models/2048-single-turn-interim-reward-001/0042\n",
      "Packed 47 trajectories into 4 sequences of length 8192\n"
     ]
    },
    {
     "data": {
      "application/vnd.jupyter.widget-view+json": {
       "model_id": "0a51f11c3c654c4d82b11064e9bb01b2",
       "version_major": 2,
       "version_minor": 0
      },
      "text/plain": [
       "tune:   0%|          | 0/4 [00:00<?, ?it/s]"
      ]
     },
     "metadata": {},
     "output_type": "display_data"
    },
    {
     "data": {
      "application/vnd.jupyter.widget-view+json": {
       "model_id": "9807fdb995654c4ba320eb08a5e2b77d",
       "version_major": 2,
       "version_minor": 0
      },
      "text/plain": [
       "train:   0%|          | 0/12 [00:00<?, ?it/s]"
      ]
     },
     "metadata": {},
     "output_type": "display_data"
    },
    {
     "name": "stdout",
     "output_type": "stream",
     "text": [
      "Deleted iteration directory ./.art/models/2048-single-turn-interim-reward-001/0043\n",
      "Packed 46 trajectories into 4 sequences of length 8192\n"
     ]
    },
    {
     "data": {
      "application/vnd.jupyter.widget-view+json": {
       "model_id": "583f66ddb825404da4ba5675ef95a2b3",
       "version_major": 2,
       "version_minor": 0
      },
      "text/plain": [
       "tune:   0%|          | 0/4 [00:00<?, ?it/s]"
      ]
     },
     "metadata": {},
     "output_type": "display_data"
    },
    {
     "data": {
      "application/vnd.jupyter.widget-view+json": {
       "model_id": "a94987e776084c8eb3df99b447cf6b58",
       "version_major": 2,
       "version_minor": 0
      },
      "text/plain": [
       "train:   0%|          | 0/12 [00:00<?, ?it/s]"
      ]
     },
     "metadata": {},
     "output_type": "display_data"
    },
    {
     "name": "stdout",
     "output_type": "stream",
     "text": [
      "Deleted iteration directory ./.art/models/2048-single-turn-interim-reward-001/0044\n",
      "Packed 84 trajectories into 4 sequences of length 8192\n"
     ]
    },
    {
     "data": {
      "application/vnd.jupyter.widget-view+json": {
       "model_id": "d849205cdf994b4daa4e94505d8b0cc4",
       "version_major": 2,
       "version_minor": 0
      },
      "text/plain": [
       "tune:   0%|          | 0/4 [00:00<?, ?it/s]"
      ]
     },
     "metadata": {},
     "output_type": "display_data"
    },
    {
     "data": {
      "application/vnd.jupyter.widget-view+json": {
       "model_id": "132f4146b36c4effa04bb47ba53eaaf9",
       "version_major": 2,
       "version_minor": 0
      },
      "text/plain": [
       "train:   0%|          | 0/12 [00:00<?, ?it/s]"
      ]
     },
     "metadata": {},
     "output_type": "display_data"
    },
    {
     "name": "stdout",
     "output_type": "stream",
     "text": [
      "Deleted iteration directory ./.art/models/2048-single-turn-interim-reward-001/0045\n",
      "Skipping tuning as there is no suitable data.\n"
     ]
    },
    {
     "data": {
      "application/vnd.jupyter.widget-view+json": {
       "model_id": "9b8db06369a648a89aaa9876ab39695b",
       "version_major": 2,
       "version_minor": 0
      },
      "text/plain": [
       "train:   0%|          | 0/12 [00:00<?, ?it/s]"
      ]
     },
     "metadata": {},
     "output_type": "display_data"
    },
    {
     "name": "stdout",
     "output_type": "stream",
     "text": [
      "Packed 171 trajectories into 4 sequences of length 8192\n"
     ]
    },
    {
     "data": {
      "application/vnd.jupyter.widget-view+json": {
       "model_id": "6f66c4583a694e2588e1c3e03fb841b3",
       "version_major": 2,
       "version_minor": 0
      },
      "text/plain": [
       "tune:   0%|          | 0/4 [00:00<?, ?it/s]"
      ]
     },
     "metadata": {},
     "output_type": "display_data"
    },
    {
     "data": {
      "application/vnd.jupyter.widget-view+json": {
       "model_id": "4c501550bff240e2b088faf5efb14b95",
       "version_major": 2,
       "version_minor": 0
      },
      "text/plain": [
       "train:   0%|          | 0/12 [00:00<?, ?it/s]"
      ]
     },
     "metadata": {},
     "output_type": "display_data"
    },
    {
     "name": "stdout",
     "output_type": "stream",
     "text": [
      "Deleted iteration directory ./.art/models/2048-single-turn-interim-reward-001/0046\n",
      "Packed 137 trajectories into 3 sequences of length 8192\n"
     ]
    },
    {
     "data": {
      "application/vnd.jupyter.widget-view+json": {
       "model_id": "8c5ac50d0d8547a486a18bad3049651a",
       "version_major": 2,
       "version_minor": 0
      },
      "text/plain": [
       "tune:   0%|          | 0/3 [00:00<?, ?it/s]"
      ]
     },
     "metadata": {},
     "output_type": "display_data"
    },
    {
     "data": {
      "application/vnd.jupyter.widget-view+json": {
       "model_id": "e6af216085554d858a7434d43a16ee58",
       "version_major": 2,
       "version_minor": 0
      },
      "text/plain": [
       "train:   0%|          | 0/12 [00:00<?, ?it/s]"
      ]
     },
     "metadata": {},
     "output_type": "display_data"
    },
    {
     "name": "stdout",
     "output_type": "stream",
     "text": [
      "Deleted iteration directory ./.art/models/2048-single-turn-interim-reward-001/0047\n",
      "Packed 60 trajectories into 3 sequences of length 8192\n"
     ]
    },
    {
     "data": {
      "application/vnd.jupyter.widget-view+json": {
       "model_id": "68268ada02c24b0ea24e53ab18727647",
       "version_major": 2,
       "version_minor": 0
      },
      "text/plain": [
       "tune:   0%|          | 0/3 [00:00<?, ?it/s]"
      ]
     },
     "metadata": {},
     "output_type": "display_data"
    },
    {
     "data": {
      "application/vnd.jupyter.widget-view+json": {
       "model_id": "f977fcadbd07467ba4e93e7772e848de",
       "version_major": 2,
       "version_minor": 0
      },
      "text/plain": [
       "train:   0%|          | 0/12 [00:00<?, ?it/s]"
      ]
     },
     "metadata": {},
     "output_type": "display_data"
    },
    {
     "name": "stdout",
     "output_type": "stream",
     "text": [
      "Deleted iteration directory ./.art/models/2048-single-turn-interim-reward-001/0048\n",
      "Packed 93 trajectories into 4 sequences of length 8192\n"
     ]
    },
    {
     "data": {
      "application/vnd.jupyter.widget-view+json": {
       "model_id": "ea8036f6771b4d56a4bd01684e91b582",
       "version_major": 2,
       "version_minor": 0
      },
      "text/plain": [
       "tune:   0%|          | 0/4 [00:00<?, ?it/s]"
      ]
     },
     "metadata": {},
     "output_type": "display_data"
    },
    {
     "data": {
      "application/vnd.jupyter.widget-view+json": {
       "model_id": "c4a63ddd4df340218b1ebab4321b17fc",
       "version_major": 2,
       "version_minor": 0
      },
      "text/plain": [
       "train:   0%|          | 0/12 [00:00<?, ?it/s]"
      ]
     },
     "metadata": {},
     "output_type": "display_data"
    },
    {
     "name": "stdout",
     "output_type": "stream",
     "text": [
      "Deleted iteration directory ./.art/models/2048-single-turn-interim-reward-001/0049\n",
      "Packed 55 trajectories into 4 sequences of length 8192\n"
     ]
    },
    {
     "data": {
      "application/vnd.jupyter.widget-view+json": {
       "model_id": "da4399361d4d402ba38ffa93e329bb5a",
       "version_major": 2,
       "version_minor": 0
      },
      "text/plain": [
       "tune:   0%|          | 0/4 [00:00<?, ?it/s]"
      ]
     },
     "metadata": {},
     "output_type": "display_data"
    },
    {
     "data": {
      "application/vnd.jupyter.widget-view+json": {
       "model_id": "0991308780494dbab251a38bc6e66ad8",
       "version_major": 2,
       "version_minor": 0
      },
      "text/plain": [
       "train:   0%|          | 0/12 [00:00<?, ?it/s]"
      ]
     },
     "metadata": {},
     "output_type": "display_data"
    },
    {
     "name": "stdout",
     "output_type": "stream",
     "text": [
      "Deleted iteration directory ./.art/models/2048-single-turn-interim-reward-001/0050\n",
      "Packed 117 trajectories into 4 sequences of length 8192\n"
     ]
    },
    {
     "data": {
      "application/vnd.jupyter.widget-view+json": {
       "model_id": "4b5bb47730a74de886fccf516f70ffb0",
       "version_major": 2,
       "version_minor": 0
      },
      "text/plain": [
       "tune:   0%|          | 0/4 [00:00<?, ?it/s]"
      ]
     },
     "metadata": {},
     "output_type": "display_data"
    },
    {
     "data": {
      "application/vnd.jupyter.widget-view+json": {
       "model_id": "c3bf9e923ea7409ea409ad08f03b4592",
       "version_major": 2,
       "version_minor": 0
      },
      "text/plain": [
       "train:   0%|          | 0/12 [00:00<?, ?it/s]"
      ]
     },
     "metadata": {},
     "output_type": "display_data"
    },
    {
     "name": "stdout",
     "output_type": "stream",
     "text": [
      "Deleted iteration directory ./.art/models/2048-single-turn-interim-reward-001/0051\n",
      "Packed 75 trajectories into 4 sequences of length 8192\n"
     ]
    },
    {
     "data": {
      "application/vnd.jupyter.widget-view+json": {
       "model_id": "5c3b16504b714fa5973578459c054330",
       "version_major": 2,
       "version_minor": 0
      },
      "text/plain": [
       "tune:   0%|          | 0/4 [00:00<?, ?it/s]"
      ]
     },
     "metadata": {},
     "output_type": "display_data"
    },
    {
     "data": {
      "application/vnd.jupyter.widget-view+json": {
       "model_id": "cc631a4da3794fbd9986ccba5cd85f26",
       "version_major": 2,
       "version_minor": 0
      },
      "text/plain": [
       "train:   0%|          | 0/12 [00:00<?, ?it/s]"
      ]
     },
     "metadata": {},
     "output_type": "display_data"
    },
    {
     "name": "stdout",
     "output_type": "stream",
     "text": [
      "Deleted iteration directory ./.art/models/2048-single-turn-interim-reward-001/0052\n",
      "Packed 51 trajectories into 4 sequences of length 8192\n"
     ]
    },
    {
     "data": {
      "application/vnd.jupyter.widget-view+json": {
       "model_id": "3111167d766141d98aa5502ab570c912",
       "version_major": 2,
       "version_minor": 0
      },
      "text/plain": [
       "tune:   0%|          | 0/4 [00:00<?, ?it/s]"
      ]
     },
     "metadata": {},
     "output_type": "display_data"
    },
    {
     "data": {
      "application/vnd.jupyter.widget-view+json": {
       "model_id": "328b7f966c0b42068f86a72290722b3e",
       "version_major": 2,
       "version_minor": 0
      },
      "text/plain": [
       "train:   0%|          | 0/12 [00:00<?, ?it/s]"
      ]
     },
     "metadata": {},
     "output_type": "display_data"
    },
    {
     "name": "stdout",
     "output_type": "stream",
     "text": [
      "Deleted iteration directory ./.art/models/2048-single-turn-interim-reward-001/0053\n",
      "Packed 106 trajectories into 3 sequences of length 8192\n"
     ]
    },
    {
     "data": {
      "application/vnd.jupyter.widget-view+json": {
       "model_id": "c28884a7eda6490c8c088ecd5a18592f",
       "version_major": 2,
       "version_minor": 0
      },
      "text/plain": [
       "tune:   0%|          | 0/3 [00:00<?, ?it/s]"
      ]
     },
     "metadata": {},
     "output_type": "display_data"
    },
    {
     "data": {
      "application/vnd.jupyter.widget-view+json": {
       "model_id": "cccce22a7f3447c9a2ba5a0fcbea2a5a",
       "version_major": 2,
       "version_minor": 0
      },
      "text/plain": [
       "train:   0%|          | 0/12 [00:00<?, ?it/s]"
      ]
     },
     "metadata": {},
     "output_type": "display_data"
    },
    {
     "name": "stdout",
     "output_type": "stream",
     "text": [
      "Deleted iteration directory ./.art/models/2048-single-turn-interim-reward-001/0054\n",
      "Packed 49 trajectories into 4 sequences of length 8192\n"
     ]
    },
    {
     "data": {
      "application/vnd.jupyter.widget-view+json": {
       "model_id": "7d8ee4e2774c4b60b563d1a76a4a1ba7",
       "version_major": 2,
       "version_minor": 0
      },
      "text/plain": [
       "tune:   0%|          | 0/4 [00:00<?, ?it/s]"
      ]
     },
     "metadata": {},
     "output_type": "display_data"
    },
    {
     "data": {
      "application/vnd.jupyter.widget-view+json": {
       "model_id": "6e52d10ed1a74aedbf6d8da09c8ccc10",
       "version_major": 2,
       "version_minor": 0
      },
      "text/plain": [
       "train:   0%|          | 0/12 [00:00<?, ?it/s]"
      ]
     },
     "metadata": {},
     "output_type": "display_data"
    },
    {
     "name": "stdout",
     "output_type": "stream",
     "text": [
      "Deleted iteration directory ./.art/models/2048-single-turn-interim-reward-001/0055\n",
      "Packed 103 trajectories into 4 sequences of length 8192\n"
     ]
    },
    {
     "data": {
      "application/vnd.jupyter.widget-view+json": {
       "model_id": "9f18eb886ea64876a19d2d6e6c597a1e",
       "version_major": 2,
       "version_minor": 0
      },
      "text/plain": [
       "tune:   0%|          | 0/4 [00:00<?, ?it/s]"
      ]
     },
     "metadata": {},
     "output_type": "display_data"
    },
    {
     "data": {
      "application/vnd.jupyter.widget-view+json": {
       "model_id": "e4b621602dca477984024f5b58cb316e",
       "version_major": 2,
       "version_minor": 0
      },
      "text/plain": [
       "train:   0%|          | 0/12 [00:00<?, ?it/s]"
      ]
     },
     "metadata": {},
     "output_type": "display_data"
    },
    {
     "name": "stdout",
     "output_type": "stream",
     "text": [
      "Deleted iteration directory ./.art/models/2048-single-turn-interim-reward-001/0056\n",
      "Packed 125 trajectories into 4 sequences of length 8192\n"
     ]
    },
    {
     "data": {
      "application/vnd.jupyter.widget-view+json": {
       "model_id": "b2979aa0d1db46479532ab562a7665eb",
       "version_major": 2,
       "version_minor": 0
      },
      "text/plain": [
       "tune:   0%|          | 0/4 [00:00<?, ?it/s]"
      ]
     },
     "metadata": {},
     "output_type": "display_data"
    },
    {
     "data": {
      "application/vnd.jupyter.widget-view+json": {
       "model_id": "93e1d0b294064b9fb3b87debd7270d54",
       "version_major": 2,
       "version_minor": 0
      },
      "text/plain": [
       "train:   0%|          | 0/12 [00:00<?, ?it/s]"
      ]
     },
     "metadata": {},
     "output_type": "display_data"
    },
    {
     "name": "stdout",
     "output_type": "stream",
     "text": [
      "Deleted iteration directory ./.art/models/2048-single-turn-interim-reward-001/0057\n",
      "Packed 171 trajectories into 4 sequences of length 8192\n"
     ]
    },
    {
     "data": {
      "application/vnd.jupyter.widget-view+json": {
       "model_id": "573773c9736d4389847e3768cd25bd6b",
       "version_major": 2,
       "version_minor": 0
      },
      "text/plain": [
       "tune:   0%|          | 0/4 [00:00<?, ?it/s]"
      ]
     },
     "metadata": {},
     "output_type": "display_data"
    },
    {
     "data": {
      "application/vnd.jupyter.widget-view+json": {
       "model_id": "ffd720c272024aaaa8301d5a3fb8efb4",
       "version_major": 2,
       "version_minor": 0
      },
      "text/plain": [
       "train:   0%|          | 0/12 [00:00<?, ?it/s]"
      ]
     },
     "metadata": {},
     "output_type": "display_data"
    },
    {
     "name": "stdout",
     "output_type": "stream",
     "text": [
      "Deleted iteration directory ./.art/models/2048-single-turn-interim-reward-001/0058\n",
      "Packed 237 trajectories into 5 sequences of length 8192\n"
     ]
    },
    {
     "data": {
      "application/vnd.jupyter.widget-view+json": {
       "model_id": "a47d3522d25b46edafb621cbcf91501e",
       "version_major": 2,
       "version_minor": 0
      },
      "text/plain": [
       "tune:   0%|          | 0/5 [00:00<?, ?it/s]"
      ]
     },
     "metadata": {},
     "output_type": "display_data"
    },
    {
     "data": {
      "application/vnd.jupyter.widget-view+json": {
       "model_id": "1b7858a933364765854e457eef7a8c31",
       "version_major": 2,
       "version_minor": 0
      },
      "text/plain": [
       "train:   0%|          | 0/12 [00:00<?, ?it/s]"
      ]
     },
     "metadata": {},
     "output_type": "display_data"
    },
    {
     "name": "stdout",
     "output_type": "stream",
     "text": [
      "Deleted iteration directory ./.art/models/2048-single-turn-interim-reward-001/0059\n",
      "Packed 200 trajectories into 4 sequences of length 8192\n"
     ]
    },
    {
     "data": {
      "application/vnd.jupyter.widget-view+json": {
       "model_id": "77d3157f607c489280b0bde192d4dd0a",
       "version_major": 2,
       "version_minor": 0
      },
      "text/plain": [
       "tune:   0%|          | 0/4 [00:00<?, ?it/s]"
      ]
     },
     "metadata": {},
     "output_type": "display_data"
    },
    {
     "data": {
      "application/vnd.jupyter.widget-view+json": {
       "model_id": "758e4c2a53f34a859377c89ccbc86119",
       "version_major": 2,
       "version_minor": 0
      },
      "text/plain": [
       "train:   0%|          | 0/12 [00:00<?, ?it/s]"
      ]
     },
     "metadata": {},
     "output_type": "display_data"
    },
    {
     "name": "stdout",
     "output_type": "stream",
     "text": [
      "Deleted iteration directory ./.art/models/2048-single-turn-interim-reward-001/0060\n",
      "Packed 94 trajectories into 4 sequences of length 8192\n"
     ]
    },
    {
     "data": {
      "application/vnd.jupyter.widget-view+json": {
       "model_id": "c328a19094b84d5e9300c8eff68f37cf",
       "version_major": 2,
       "version_minor": 0
      },
      "text/plain": [
       "tune:   0%|          | 0/4 [00:00<?, ?it/s]"
      ]
     },
     "metadata": {},
     "output_type": "display_data"
    },
    {
     "data": {
      "application/vnd.jupyter.widget-view+json": {
       "model_id": "8cd712aa41fb4ce084e0de8f07648b09",
       "version_major": 2,
       "version_minor": 0
      },
      "text/plain": [
       "train:   0%|          | 0/12 [00:00<?, ?it/s]"
      ]
     },
     "metadata": {},
     "output_type": "display_data"
    },
    {
     "name": "stdout",
     "output_type": "stream",
     "text": [
      "Deleted iteration directory ./.art/models/2048-single-turn-interim-reward-001/0061\n",
      "Skipping tuning as there is no suitable data.\n"
     ]
    },
    {
     "data": {
      "application/vnd.jupyter.widget-view+json": {
       "model_id": "f871e57b23e14637943d01e31eae394a",
       "version_major": 2,
       "version_minor": 0
      },
      "text/plain": [
       "train:   0%|          | 0/12 [00:00<?, ?it/s]"
      ]
     },
     "metadata": {},
     "output_type": "display_data"
    },
    {
     "name": "stdout",
     "output_type": "stream",
     "text": [
      "Packed 91 trajectories into 4 sequences of length 8192\n"
     ]
    },
    {
     "data": {
      "application/vnd.jupyter.widget-view+json": {
       "model_id": "f1f8d173be3f4a05be7352dee570cae4",
       "version_major": 2,
       "version_minor": 0
      },
      "text/plain": [
       "tune:   0%|          | 0/4 [00:00<?, ?it/s]"
      ]
     },
     "metadata": {},
     "output_type": "display_data"
    },
    {
     "data": {
      "application/vnd.jupyter.widget-view+json": {
       "model_id": "9b148c3f5dd844b99cb3a026acd238b6",
       "version_major": 2,
       "version_minor": 0
      },
      "text/plain": [
       "train:   0%|          | 0/12 [00:00<?, ?it/s]"
      ]
     },
     "metadata": {},
     "output_type": "display_data"
    },
    {
     "name": "stdout",
     "output_type": "stream",
     "text": [
      "Deleted iteration directory ./.art/models/2048-single-turn-interim-reward-001/0062\n",
      "Packed 189 trajectories into 4 sequences of length 8192\n"
     ]
    },
    {
     "data": {
      "application/vnd.jupyter.widget-view+json": {
       "model_id": "958ba3a263104300bb72a21aa23ac235",
       "version_major": 2,
       "version_minor": 0
      },
      "text/plain": [
       "tune:   0%|          | 0/4 [00:00<?, ?it/s]"
      ]
     },
     "metadata": {},
     "output_type": "display_data"
    },
    {
     "data": {
      "application/vnd.jupyter.widget-view+json": {
       "model_id": "3dddf758990344c99c7d173def554426",
       "version_major": 2,
       "version_minor": 0
      },
      "text/plain": [
       "train:   0%|          | 0/12 [00:00<?, ?it/s]"
      ]
     },
     "metadata": {},
     "output_type": "display_data"
    },
    {
     "name": "stdout",
     "output_type": "stream",
     "text": [
      "Deleted iteration directory ./.art/models/2048-single-turn-interim-reward-001/0063\n",
      "Packed 108 trajectories into 4 sequences of length 8192\n"
     ]
    },
    {
     "data": {
      "application/vnd.jupyter.widget-view+json": {
       "model_id": "f1ff59e6018d4f5fb8282854ee18c1a6",
       "version_major": 2,
       "version_minor": 0
      },
      "text/plain": [
       "tune:   0%|          | 0/4 [00:00<?, ?it/s]"
      ]
     },
     "metadata": {},
     "output_type": "display_data"
    },
    {
     "data": {
      "application/vnd.jupyter.widget-view+json": {
       "model_id": "5f36b42228a34da39d3472f4391d46c4",
       "version_major": 2,
       "version_minor": 0
      },
      "text/plain": [
       "train:   0%|          | 0/12 [00:00<?, ?it/s]"
      ]
     },
     "metadata": {},
     "output_type": "display_data"
    },
    {
     "name": "stdout",
     "output_type": "stream",
     "text": [
      "Deleted iteration directory ./.art/models/2048-single-turn-interim-reward-001/0064\n",
      "Packed 56 trajectories into 4 sequences of length 8192\n"
     ]
    },
    {
     "data": {
      "application/vnd.jupyter.widget-view+json": {
       "model_id": "234cead8b15f4661bac766567db709dc",
       "version_major": 2,
       "version_minor": 0
      },
      "text/plain": [
       "tune:   0%|          | 0/4 [00:00<?, ?it/s]"
      ]
     },
     "metadata": {},
     "output_type": "display_data"
    },
    {
     "data": {
      "application/vnd.jupyter.widget-view+json": {
       "model_id": "9b42057096fd4227882491b243e7b928",
       "version_major": 2,
       "version_minor": 0
      },
      "text/plain": [
       "train:   0%|          | 0/12 [00:00<?, ?it/s]"
      ]
     },
     "metadata": {},
     "output_type": "display_data"
    },
    {
     "name": "stdout",
     "output_type": "stream",
     "text": [
      "Deleted iteration directory ./.art/models/2048-single-turn-interim-reward-001/0065\n",
      "Packed 104 trajectories into 4 sequences of length 8192\n"
     ]
    },
    {
     "data": {
      "application/vnd.jupyter.widget-view+json": {
       "model_id": "ca071e3350ef4534964550826fd8ea4b",
       "version_major": 2,
       "version_minor": 0
      },
      "text/plain": [
       "tune:   0%|          | 0/4 [00:00<?, ?it/s]"
      ]
     },
     "metadata": {},
     "output_type": "display_data"
    },
    {
     "data": {
      "application/vnd.jupyter.widget-view+json": {
       "model_id": "204e7bc2d6764c6fad9b316159c4a664",
       "version_major": 2,
       "version_minor": 0
      },
      "text/plain": [
       "train:   0%|          | 0/12 [00:00<?, ?it/s]"
      ]
     },
     "metadata": {},
     "output_type": "display_data"
    },
    {
     "name": "stdout",
     "output_type": "stream",
     "text": [
      "Deleted iteration directory ./.art/models/2048-single-turn-interim-reward-001/0066\n",
      "Packed 48 trajectories into 3 sequences of length 8192\n"
     ]
    },
    {
     "data": {
      "application/vnd.jupyter.widget-view+json": {
       "model_id": "5994b6afe9744f858c70a0dc815bde67",
       "version_major": 2,
       "version_minor": 0
      },
      "text/plain": [
       "tune:   0%|          | 0/3 [00:00<?, ?it/s]"
      ]
     },
     "metadata": {},
     "output_type": "display_data"
    },
    {
     "data": {
      "application/vnd.jupyter.widget-view+json": {
       "model_id": "b44f47b5d7e74570a7ab2df230df342c",
       "version_major": 2,
       "version_minor": 0
      },
      "text/plain": [
       "train:   0%|          | 0/12 [00:00<?, ?it/s]"
      ]
     },
     "metadata": {},
     "output_type": "display_data"
    },
    {
     "name": "stdout",
     "output_type": "stream",
     "text": [
      "Deleted iteration directory ./.art/models/2048-single-turn-interim-reward-001/0067\n",
      "Packed 90 trajectories into 4 sequences of length 8192\n"
     ]
    },
    {
     "data": {
      "application/vnd.jupyter.widget-view+json": {
       "model_id": "4c2be8fea3ad4983ae59189910ce7694",
       "version_major": 2,
       "version_minor": 0
      },
      "text/plain": [
       "tune:   0%|          | 0/4 [00:00<?, ?it/s]"
      ]
     },
     "metadata": {},
     "output_type": "display_data"
    },
    {
     "data": {
      "application/vnd.jupyter.widget-view+json": {
       "model_id": "e19f83ae589c4535840347b726ee4b43",
       "version_major": 2,
       "version_minor": 0
      },
      "text/plain": [
       "train:   0%|          | 0/12 [00:00<?, ?it/s]"
      ]
     },
     "metadata": {},
     "output_type": "display_data"
    },
    {
     "name": "stdout",
     "output_type": "stream",
     "text": [
      "Deleted iteration directory ./.art/models/2048-single-turn-interim-reward-001/0068\n",
      "Skipping tuning as there is no suitable data.\n"
     ]
    },
    {
     "data": {
      "application/vnd.jupyter.widget-view+json": {
       "model_id": "442ec8bed2a74f74b7ad2f08999abbe1",
       "version_major": 2,
       "version_minor": 0
      },
      "text/plain": [
       "train:   0%|          | 0/12 [00:00<?, ?it/s]"
      ]
     },
     "metadata": {},
     "output_type": "display_data"
    },
    {
     "name": "stdout",
     "output_type": "stream",
     "text": [
      "Packed 47 trajectories into 4 sequences of length 8192\n"
     ]
    },
    {
     "data": {
      "application/vnd.jupyter.widget-view+json": {
       "model_id": "6810aa609aad4b8ea7073a35d9a59a00",
       "version_major": 2,
       "version_minor": 0
      },
      "text/plain": [
       "tune:   0%|          | 0/4 [00:00<?, ?it/s]"
      ]
     },
     "metadata": {},
     "output_type": "display_data"
    },
    {
     "data": {
      "application/vnd.jupyter.widget-view+json": {
       "model_id": "d1ab59035dc240ada7f427f8d4025001",
       "version_major": 2,
       "version_minor": 0
      },
      "text/plain": [
       "train:   0%|          | 0/12 [00:00<?, ?it/s]"
      ]
     },
     "metadata": {},
     "output_type": "display_data"
    },
    {
     "name": "stdout",
     "output_type": "stream",
     "text": [
      "Deleted iteration directory ./.art/models/2048-single-turn-interim-reward-001/0069\n",
      "Packed 89 trajectories into 4 sequences of length 8192\n"
     ]
    },
    {
     "data": {
      "application/vnd.jupyter.widget-view+json": {
       "model_id": "89963abf826940d982e3378dada4dcca",
       "version_major": 2,
       "version_minor": 0
      },
      "text/plain": [
       "tune:   0%|          | 0/4 [00:00<?, ?it/s]"
      ]
     },
     "metadata": {},
     "output_type": "display_data"
    },
    {
     "data": {
      "application/vnd.jupyter.widget-view+json": {
       "model_id": "22449fdc372f4b3094d781abca873314",
       "version_major": 2,
       "version_minor": 0
      },
      "text/plain": [
       "train:   0%|          | 0/12 [00:00<?, ?it/s]"
      ]
     },
     "metadata": {},
     "output_type": "display_data"
    },
    {
     "name": "stdout",
     "output_type": "stream",
     "text": [
      "Deleted iteration directory ./.art/models/2048-single-turn-interim-reward-001/0070\n",
      "Skipping tuning as there is no suitable data.\n"
     ]
    },
    {
     "data": {
      "application/vnd.jupyter.widget-view+json": {
       "model_id": "f4bfc78940a04bee8c88b01e1f21a4d1",
       "version_major": 2,
       "version_minor": 0
      },
      "text/plain": [
       "train:   0%|          | 0/12 [00:00<?, ?it/s]"
      ]
     },
     "metadata": {},
     "output_type": "display_data"
    },
    {
     "name": "stdout",
     "output_type": "stream",
     "text": [
      "Packed 39 trajectories into 4 sequences of length 8192\n"
     ]
    },
    {
     "data": {
      "application/vnd.jupyter.widget-view+json": {
       "model_id": "faa11654ecdd4bbfb11de53b5fe3b45b",
       "version_major": 2,
       "version_minor": 0
      },
      "text/plain": [
       "tune:   0%|          | 0/4 [00:00<?, ?it/s]"
      ]
     },
     "metadata": {},
     "output_type": "display_data"
    },
    {
     "data": {
      "application/vnd.jupyter.widget-view+json": {
       "model_id": "3977c02670aa4d9fb60c6d97ca46131d",
       "version_major": 2,
       "version_minor": 0
      },
      "text/plain": [
       "train:   0%|          | 0/12 [00:00<?, ?it/s]"
      ]
     },
     "metadata": {},
     "output_type": "display_data"
    },
    {
     "name": "stdout",
     "output_type": "stream",
     "text": [
      "Deleted iteration directory ./.art/models/2048-single-turn-interim-reward-001/0071\n",
      "Skipping tuning as there is no suitable data.\n"
     ]
    },
    {
     "data": {
      "application/vnd.jupyter.widget-view+json": {
       "model_id": "2514d85e192c476593cfbbc36bbbd4f7",
       "version_major": 2,
       "version_minor": 0
      },
      "text/plain": [
       "train:   0%|          | 0/12 [00:00<?, ?it/s]"
      ]
     },
     "metadata": {},
     "output_type": "display_data"
    },
    {
     "name": "stdout",
     "output_type": "stream",
     "text": [
      "Packed 34 trajectories into 4 sequences of length 8192\n"
     ]
    },
    {
     "data": {
      "application/vnd.jupyter.widget-view+json": {
       "model_id": "4561bad8cb3e43bcb24fe4215e161439",
       "version_major": 2,
       "version_minor": 0
      },
      "text/plain": [
       "tune:   0%|          | 0/4 [00:00<?, ?it/s]"
      ]
     },
     "metadata": {},
     "output_type": "display_data"
    },
    {
     "data": {
      "application/vnd.jupyter.widget-view+json": {
       "model_id": "c29e511b6d374706913750b8de092cf5",
       "version_major": 2,
       "version_minor": 0
      },
      "text/plain": [
       "train:   0%|          | 0/12 [00:00<?, ?it/s]"
      ]
     },
     "metadata": {},
     "output_type": "display_data"
    },
    {
     "name": "stdout",
     "output_type": "stream",
     "text": [
      "Deleted iteration directory ./.art/models/2048-single-turn-interim-reward-001/0072\n",
      "Packed 86 trajectories into 4 sequences of length 8192\n"
     ]
    },
    {
     "data": {
      "application/vnd.jupyter.widget-view+json": {
       "model_id": "6be65118c59544fc82c3fe64499a2a74",
       "version_major": 2,
       "version_minor": 0
      },
      "text/plain": [
       "tune:   0%|          | 0/4 [00:00<?, ?it/s]"
      ]
     },
     "metadata": {},
     "output_type": "display_data"
    },
    {
     "data": {
      "application/vnd.jupyter.widget-view+json": {
       "model_id": "bce59d916bc643cb8aa2d4e7f4f58b92",
       "version_major": 2,
       "version_minor": 0
      },
      "text/plain": [
       "train:   0%|          | 0/12 [00:00<?, ?it/s]"
      ]
     },
     "metadata": {},
     "output_type": "display_data"
    },
    {
     "name": "stdout",
     "output_type": "stream",
     "text": [
      "Deleted iteration directory ./.art/models/2048-single-turn-interim-reward-001/0073\n",
      "Packed 64 trajectories into 3 sequences of length 8192\n"
     ]
    },
    {
     "data": {
      "application/vnd.jupyter.widget-view+json": {
       "model_id": "d4dbb2cd1add4c85ab774ddf4d0ff227",
       "version_major": 2,
       "version_minor": 0
      },
      "text/plain": [
       "tune:   0%|          | 0/3 [00:00<?, ?it/s]"
      ]
     },
     "metadata": {},
     "output_type": "display_data"
    },
    {
     "data": {
      "application/vnd.jupyter.widget-view+json": {
       "model_id": "45531dbd567e453690fe93f578726cde",
       "version_major": 2,
       "version_minor": 0
      },
      "text/plain": [
       "train:   0%|          | 0/12 [00:00<?, ?it/s]"
      ]
     },
     "metadata": {},
     "output_type": "display_data"
    },
    {
     "name": "stdout",
     "output_type": "stream",
     "text": [
      "Deleted iteration directory ./.art/models/2048-single-turn-interim-reward-001/0074\n",
      "Skipping tuning as there is no suitable data.\n"
     ]
    },
    {
     "data": {
      "application/vnd.jupyter.widget-view+json": {
       "model_id": "77a73ca95ce3442abc3c7ed468697844",
       "version_major": 2,
       "version_minor": 0
      },
      "text/plain": [
       "train:   0%|          | 0/12 [00:00<?, ?it/s]"
      ]
     },
     "metadata": {},
     "output_type": "display_data"
    },
    {
     "name": "stdout",
     "output_type": "stream",
     "text": [
      "Packed 46 trajectories into 3 sequences of length 8192\n"
     ]
    },
    {
     "data": {
      "application/vnd.jupyter.widget-view+json": {
       "model_id": "05c95565f08a4a04810af2094ca68e78",
       "version_major": 2,
       "version_minor": 0
      },
      "text/plain": [
       "tune:   0%|          | 0/3 [00:00<?, ?it/s]"
      ]
     },
     "metadata": {},
     "output_type": "display_data"
    },
    {
     "data": {
      "application/vnd.jupyter.widget-view+json": {
       "model_id": "dced4a9d2f034f468f52ad3f7a8eae59",
       "version_major": 2,
       "version_minor": 0
      },
      "text/plain": [
       "train:   0%|          | 0/12 [00:00<?, ?it/s]"
      ]
     },
     "metadata": {},
     "output_type": "display_data"
    },
    {
     "name": "stdout",
     "output_type": "stream",
     "text": [
      "Deleted iteration directory ./.art/models/2048-single-turn-interim-reward-001/0075\n",
      "Skipping tuning as there is no suitable data.\n"
     ]
    },
    {
     "data": {
      "application/vnd.jupyter.widget-view+json": {
       "model_id": "ae2bb0f43b944542b6a8c584e15a51ec",
       "version_major": 2,
       "version_minor": 0
      },
      "text/plain": [
       "train:   0%|          | 0/12 [00:00<?, ?it/s]"
      ]
     },
     "metadata": {},
     "output_type": "display_data"
    },
    {
     "name": "stdout",
     "output_type": "stream",
     "text": [
      "Skipping tuning as there is no suitable data.\n"
     ]
    },
    {
     "data": {
      "application/vnd.jupyter.widget-view+json": {
       "model_id": "74c47e7aae0d4f1a89d1c00d2425bd6b",
       "version_major": 2,
       "version_minor": 0
      },
      "text/plain": [
       "train:   0%|          | 0/12 [00:00<?, ?it/s]"
      ]
     },
     "metadata": {},
     "output_type": "display_data"
    },
    {
     "name": "stdout",
     "output_type": "stream",
     "text": [
      "Packed 83 trajectories into 4 sequences of length 8192\n"
     ]
    },
    {
     "data": {
      "application/vnd.jupyter.widget-view+json": {
       "model_id": "a253bdd2eec8452ba85de5f15b9284e3",
       "version_major": 2,
       "version_minor": 0
      },
      "text/plain": [
       "tune:   0%|          | 0/4 [00:00<?, ?it/s]"
      ]
     },
     "metadata": {},
     "output_type": "display_data"
    },
    {
     "data": {
      "application/vnd.jupyter.widget-view+json": {
       "model_id": "9417a3694aca4ad78dcf67f5cd7c9c76",
       "version_major": 2,
       "version_minor": 0
      },
      "text/plain": [
       "train:   0%|          | 0/12 [00:00<?, ?it/s]"
      ]
     },
     "metadata": {},
     "output_type": "display_data"
    },
    {
     "name": "stdout",
     "output_type": "stream",
     "text": [
      "Deleted iteration directory ./.art/models/2048-single-turn-interim-reward-001/0076\n",
      "Packed 86 trajectories into 4 sequences of length 8192\n"
     ]
    },
    {
     "data": {
      "application/vnd.jupyter.widget-view+json": {
       "model_id": "3ef1d4787384442f826a0cf290a4c5fe",
       "version_major": 2,
       "version_minor": 0
      },
      "text/plain": [
       "tune:   0%|          | 0/4 [00:00<?, ?it/s]"
      ]
     },
     "metadata": {},
     "output_type": "display_data"
    },
    {
     "data": {
      "application/vnd.jupyter.widget-view+json": {
       "model_id": "6aae217aeef544dabef9cf06aa64a29f",
       "version_major": 2,
       "version_minor": 0
      },
      "text/plain": [
       "train:   0%|          | 0/12 [00:00<?, ?it/s]"
      ]
     },
     "metadata": {},
     "output_type": "display_data"
    },
    {
     "name": "stdout",
     "output_type": "stream",
     "text": [
      "Deleted iteration directory ./.art/models/2048-single-turn-interim-reward-001/0077\n",
      "Packed 95 trajectories into 4 sequences of length 8192\n"
     ]
    },
    {
     "data": {
      "application/vnd.jupyter.widget-view+json": {
       "model_id": "45446e2ca261400392fa12d7234d1f53",
       "version_major": 2,
       "version_minor": 0
      },
      "text/plain": [
       "tune:   0%|          | 0/4 [00:00<?, ?it/s]"
      ]
     },
     "metadata": {},
     "output_type": "display_data"
    },
    {
     "data": {
      "application/vnd.jupyter.widget-view+json": {
       "model_id": "c2f5d391130f464187d19963ee1274f8",
       "version_major": 2,
       "version_minor": 0
      },
      "text/plain": [
       "train:   0%|          | 0/12 [00:00<?, ?it/s]"
      ]
     },
     "metadata": {},
     "output_type": "display_data"
    },
    {
     "name": "stdout",
     "output_type": "stream",
     "text": [
      "Deleted iteration directory ./.art/models/2048-single-turn-interim-reward-001/0078\n",
      "Packed 59 trajectories into 4 sequences of length 8192\n"
     ]
    },
    {
     "data": {
      "application/vnd.jupyter.widget-view+json": {
       "model_id": "b0f7973e956747439ddfe274cff13cfd",
       "version_major": 2,
       "version_minor": 0
      },
      "text/plain": [
       "tune:   0%|          | 0/4 [00:00<?, ?it/s]"
      ]
     },
     "metadata": {},
     "output_type": "display_data"
    },
    {
     "data": {
      "application/vnd.jupyter.widget-view+json": {
       "model_id": "6f1dd712b3ed4b43b5674a74634efaa4",
       "version_major": 2,
       "version_minor": 0
      },
      "text/plain": [
       "train:   0%|          | 0/12 [00:00<?, ?it/s]"
      ]
     },
     "metadata": {},
     "output_type": "display_data"
    },
    {
     "name": "stdout",
     "output_type": "stream",
     "text": [
      "Deleted iteration directory ./.art/models/2048-single-turn-interim-reward-001/0079\n",
      "Packed 135 trajectories into 4 sequences of length 8192\n"
     ]
    },
    {
     "data": {
      "application/vnd.jupyter.widget-view+json": {
       "model_id": "8f54e9b9ad0f4a63b493e06445a6c693",
       "version_major": 2,
       "version_minor": 0
      },
      "text/plain": [
       "tune:   0%|          | 0/4 [00:00<?, ?it/s]"
      ]
     },
     "metadata": {},
     "output_type": "display_data"
    },
    {
     "data": {
      "application/vnd.jupyter.widget-view+json": {
       "model_id": "9e1f6120fc8f469bb57fba0851b249bd",
       "version_major": 2,
       "version_minor": 0
      },
      "text/plain": [
       "train:   0%|          | 0/12 [00:00<?, ?it/s]"
      ]
     },
     "metadata": {},
     "output_type": "display_data"
    },
    {
     "name": "stdout",
     "output_type": "stream",
     "text": [
      "Deleted iteration directory ./.art/models/2048-single-turn-interim-reward-001/0080\n",
      "Packed 53 trajectories into 3 sequences of length 8192\n"
     ]
    },
    {
     "data": {
      "application/vnd.jupyter.widget-view+json": {
       "model_id": "c14d97b4283e492cb0ce95902beba569",
       "version_major": 2,
       "version_minor": 0
      },
      "text/plain": [
       "tune:   0%|          | 0/3 [00:00<?, ?it/s]"
      ]
     },
     "metadata": {},
     "output_type": "display_data"
    },
    {
     "data": {
      "application/vnd.jupyter.widget-view+json": {
       "model_id": "8eea86bec1d04a41a1b6d57cce17b5a8",
       "version_major": 2,
       "version_minor": 0
      },
      "text/plain": [
       "train:   0%|          | 0/12 [00:00<?, ?it/s]"
      ]
     },
     "metadata": {},
     "output_type": "display_data"
    },
    {
     "name": "stdout",
     "output_type": "stream",
     "text": [
      "Deleted iteration directory ./.art/models/2048-single-turn-interim-reward-001/0081\n",
      "Packed 73 trajectories into 4 sequences of length 8192\n"
     ]
    },
    {
     "data": {
      "application/vnd.jupyter.widget-view+json": {
       "model_id": "1870780b19b0424fa4ddc8c4bc7161fa",
       "version_major": 2,
       "version_minor": 0
      },
      "text/plain": [
       "tune:   0%|          | 0/4 [00:00<?, ?it/s]"
      ]
     },
     "metadata": {},
     "output_type": "display_data"
    },
    {
     "data": {
      "application/vnd.jupyter.widget-view+json": {
       "model_id": "a5976302b8f448fea166015b58b8492c",
       "version_major": 2,
       "version_minor": 0
      },
      "text/plain": [
       "train:   0%|          | 0/12 [00:00<?, ?it/s]"
      ]
     },
     "metadata": {},
     "output_type": "display_data"
    },
    {
     "name": "stdout",
     "output_type": "stream",
     "text": [
      "Deleted iteration directory ./.art/models/2048-single-turn-interim-reward-001/0082\n",
      "Skipping tuning as there is no suitable data.\n"
     ]
    },
    {
     "data": {
      "application/vnd.jupyter.widget-view+json": {
       "model_id": "3169c0abe07a431ca18fc2216fc43ef5",
       "version_major": 2,
       "version_minor": 0
      },
      "text/plain": [
       "train:   0%|          | 0/12 [00:00<?, ?it/s]"
      ]
     },
     "metadata": {},
     "output_type": "display_data"
    },
    {
     "name": "stdout",
     "output_type": "stream",
     "text": [
      "Packed 53 trajectories into 4 sequences of length 8192\n"
     ]
    },
    {
     "data": {
      "application/vnd.jupyter.widget-view+json": {
       "model_id": "750a5a6066df4af0b840c49d19b33baa",
       "version_major": 2,
       "version_minor": 0
      },
      "text/plain": [
       "tune:   0%|          | 0/4 [00:00<?, ?it/s]"
      ]
     },
     "metadata": {},
     "output_type": "display_data"
    },
    {
     "data": {
      "application/vnd.jupyter.widget-view+json": {
       "model_id": "4e88dca88baa4df8b4f613eb15944d91",
       "version_major": 2,
       "version_minor": 0
      },
      "text/plain": [
       "train:   0%|          | 0/12 [00:00<?, ?it/s]"
      ]
     },
     "metadata": {},
     "output_type": "display_data"
    }
   ],
   "source": [
    "import art\n",
    "import asyncio\n",
    "from dotenv import load_dotenv\n",
    "from art.utils.get_trajectory_messages import get_trajectory_messages\n",
    "import json\n",
    "import openai\n",
    "import random\n",
    "from typing import TypedDict\n",
    "import time\n",
    "from typing import Literal\n",
    "from pydantic import BaseModel\n",
    "import math\n",
    "import string\n",
    "import xml.etree.ElementTree as ET\n",
    "import requests\n",
    "import wandb\n",
    "\n",
    "load_dotenv()\n",
    "\n",
    "WINNING_VALUE = 512\n",
    "\n",
    "\n",
    "class TwentyFortyEightGame(TypedDict):\n",
    "    id: str\n",
    "    board: list[list[int | None]]\n",
    "\n",
    "def populate_random_cell(game: TwentyFortyEightGame) -> None:\n",
    "    all_clear_coordinates = [(i, j) for i in range(len(game[\"board\"])) for j in range(len(game[\"board\"][i])) if game[\"board\"][i][j] is None]\n",
    "    random_clear_coordinates = random.choice(all_clear_coordinates)\n",
    "    # 90% chance to populate a 2, 10% chance to populate a 4\n",
    "    game[\"board\"][random_clear_coordinates[0]][random_clear_coordinates[1]] = 2 if random.random() < 0.9 else 4\n",
    "\n",
    "\n",
    "def generate_game(board_length: int = 4) -> TwentyFortyEightGame:\n",
    "    # random 6 character string\n",
    "    id = ''.join(random.choices(string.ascii_letters + string.digits, k=6))\n",
    "    game = {\n",
    "        \"id\": id,\n",
    "        \"board\": [[None for _ in range(board_length)] for _ in range(board_length)]\n",
    "    }\n",
    "\n",
    "    # populate two random cells\n",
    "    populate_random_cell(game)\n",
    "    populate_random_cell(game)\n",
    "    \n",
    "    return game\n",
    "\n",
    "\n",
    "def render_board(game: TwentyFortyEightGame) -> str:\n",
    "    board = game[\"board\"]\n",
    "    # print something like this:\n",
    "    # _    | 2    | _    | 4\n",
    "    # 4    | 8    | 2    | 16\n",
    "    # 16   | 32   | 64   | 128\n",
    "    # _    | 2    | 2    | 4\n",
    "    # where _ is an empty cell\n",
    "\n",
    "    max_cell_width = max([len(str(cell)) for row in board for cell in row if cell is not None])\n",
    "\n",
    "    board_str = \"\"\n",
    "    for row in board:\n",
    "        # pad the cells with spaces to make them the same width\n",
    "        board_str += \"|\".join([str(cell).rjust(max_cell_width) if cell is not None else \"_\".rjust(max_cell_width) for cell in row])\n",
    "        board_str += \"\\n\"\n",
    "    return board_str\n",
    "\n",
    "# condense, privileging matches at the start of the sequence\n",
    "# sequences should be passed starting with cells that are the furthest in the direction in which the board is being condensed\n",
    "def condense_sequence(sequence: list[int | None]) -> list[int | None]:\n",
    "    condensed_sequence = []\n",
    "    \n",
    "    gapless_sequence = [cell for cell in sequence if cell is not None]\n",
    "\n",
    "    i = 0\n",
    "    while i < len(gapless_sequence):\n",
    "        if i + 1 < len(gapless_sequence) and gapless_sequence[i] == gapless_sequence[i + 1]:\n",
    "            condensed_sequence.append(gapless_sequence[i] * 2)\n",
    "            i += 2\n",
    "        else:\n",
    "            condensed_sequence.append(gapless_sequence[i])\n",
    "            i += 1\n",
    "\n",
    "    # pad the sequence with None at the end\n",
    "    return condensed_sequence + [None] * (4 - len(condensed_sequence))\n",
    "\n",
    "def condense_board(game: TwentyFortyEightGame, direction: Literal[\"left\", \"right\", \"up\", \"down\"]) -> None:\n",
    "\n",
    "    if direction == \"left\":\n",
    "        for row in game[\"board\"]:\n",
    "            condensed_row = condense_sequence(row)\n",
    "            for i in range(len(row)):\n",
    "                row[i] = condensed_row[i]\n",
    "    \n",
    "    if direction == \"right\":\n",
    "        for row in game[\"board\"]:\n",
    "            reversed_row = row[::-1]\n",
    "            # reverse the row before and after condensing\n",
    "            condensed_row = condense_sequence(reversed_row)[::-1]\n",
    "            for i in range(len(row)):\n",
    "                row[i] = condensed_row[i]\n",
    "\n",
    "    if direction == \"up\":\n",
    "        for col_index in range(len(game[\"board\"][0])):\n",
    "            column = [row[col_index] for row in game[\"board\"]]\n",
    "\n",
    "            condensed_column = condense_sequence(column)\n",
    "            for row_index in range(len(column)):\n",
    "                game[\"board\"][row_index][col_index] = condensed_column[row_index]\n",
    "    \n",
    "    if direction == \"down\":\n",
    "        for col_index in range(len(game[\"board\"][0])):\n",
    "            column = [row[col_index] for row in game[\"board\"]]\n",
    "            reversed_column = column[::-1]\n",
    "            condensed_column = condense_sequence(reversed_column)[::-1]\n",
    "            for row_index in range(len(column)):\n",
    "                game[\"board\"][row_index][col_index] = condensed_column[row_index]\n",
    "        \n",
    "        \n",
    "\n",
    "class AgentMove(BaseModel):\n",
    "    direction: Literal[\"left\", \"right\", \"up\", \"down\"]\n",
    "\n",
    "\n",
    "def apply_agent_move(game: TwentyFortyEightGame, move_xml: str) -> None:\n",
    "\n",
    "    direction = None\n",
    "    # parse the move\n",
    "    try:\n",
    "        root = ET.fromstring(move_xml)\n",
    "        direction = root.text\n",
    "    except Exception as e:\n",
    "        raise ValueError(\"Invalid xml\")\n",
    "    \n",
    "    if direction not in [\"left\", \"right\", \"up\", \"down\"]:\n",
    "        raise ValueError(\"Invalid direction\")\n",
    "\n",
    "    condense_board(game, direction)\n",
    "\n",
    "    populate_random_cell(game)\n",
    "\n",
    "def max_cell_value(game: TwentyFortyEightGame) -> int:\n",
    "    return max([cell for row in game[\"board\"] for cell in row if cell is not None])\n",
    "\n",
    "\n",
    "def check_num_empty_cells(game: TwentyFortyEightGame) -> int:\n",
    "    return sum(1 for row in game[\"board\"] for cell in row if cell is None)\n",
    "\n",
    "\n",
    "def check_game_finished(game: TwentyFortyEightGame) -> bool:\n",
    "\n",
    "    if max_cell_value(game) >= WINNING_VALUE:\n",
    "        return True\n",
    "\n",
    "    # check if any cell is empty\n",
    "    if check_num_empty_cells(game) == 0:\n",
    "        return True\n",
    "\n",
    "    return False\n",
    "\n",
    "def report_trajectory_rewards(trajectories: list[art.Trajectory]) -> None:\n",
    "    for trajectory in trajectories:\n",
    "        for item in trajectory.messages_and_choices:\n",
    "            item_dict = None\n",
    "            # check if item is a dict\n",
    "            if isinstance(item, dict):\n",
    "                item_dict = item\n",
    "            else:\n",
    "                item_dict = item.model_dump()\n",
    "\n",
    "            if \"completion_id\" in item_dict:\n",
    "                completion_id = item_dict[\"completion_id\"]\n",
    "                op_client.update_log_metadata(\n",
    "                    filters=[\n",
    "                        {\n",
    "                            \"field\": \"completionId\",\n",
    "                            \"equals\": completion_id,\n",
    "                        }\n",
    "                    ],\n",
    "                    metadata={\"reward\": str(trajectory.reward)},\n",
    "                )\n",
    "\n",
    "\n",
    "@art.retry(exceptions=(openai.LengthFinishReasonError, requests.ReadTimeout))\n",
    "async def rollout(\n",
    "    client: openai.AsyncOpenAI, iteration: int\n",
    ") -> art.Trajectory:\n",
    "\n",
    "    game = generate_game()\n",
    "\n",
    "    game_outcome_reward = 0\n",
    "    move_number = 0\n",
    "\n",
    "\n",
    "    trajectories: list[art.Trajectory] = []\n",
    "\n",
    "    directions = [\"left\", \"right\", \"up\", \"down\"]\n",
    "\n",
    "    num_empty_cells_two_turns_ago = 16\n",
    "    num_empty_cells_one_turn_ago = 16\n",
    "\n",
    "    while True:\n",
    "        # randomize directions to avoid bias\n",
    "        random.shuffle(directions)\n",
    "        directions_str = \"', '\".join(directions)\n",
    "\n",
    "        trajectory = art.Trajectory(\n",
    "            messages_and_choices=[\n",
    "                {\n",
    "                    \"role\": \"system\",\n",
    "                    \"content\": f\"You are an excellent 2048 player. Always choose the move most likely to lead to combine cells to eventually reach the number 2048. Optional moves are '{directions_str}'. Return your move as an XML object with a single property 'move', like so: <move>direction</move>\",\n",
    "                }\n",
    "            ],\n",
    "            reward=0,\n",
    "        )\n",
    "        trajectories.append(trajectory)\n",
    "                    \n",
    "        trajectory.messages_and_choices.append(\n",
    "            {\"role\": \"user\", \"content\": render_board(game)}\n",
    "        )\n",
    "\n",
    "        requested_at = int(time.time() * 1000)\n",
    "        messages = get_trajectory_messages(trajectory)\n",
    "\n",
    "        async def get_completion():\n",
    "            return await client.chat.completions.create(\n",
    "                max_completion_tokens=2048,\n",
    "                messages=messages,\n",
    "                model=model.name,\n",
    "                temperature=1.5,\n",
    "            )\n",
    "\n",
    "        try:\n",
    "            chat_completion = await get_completion()\n",
    "            last_completion = chat_completion\n",
    "        except openai.LengthFinishReasonError as e:\n",
    "            raise e\n",
    "        except Exception as e:\n",
    "            print(\"caught exception generating chat completion\")\n",
    "            print(e)\n",
    "            raise e\n",
    "        \n",
    "        try:\n",
    "            op_client.report(\n",
    "                requested_at=requested_at,\n",
    "                received_at=int(time.time() * 1000),\n",
    "                req_payload={\n",
    "                    \"model\": model.name,\n",
    "                    \"messages\": messages,\n",
    "                    \"metadata\": {\n",
    "                        \"game_id\": game[\"id\"],\n",
    "                        \"notebook-id\": \"2048\",\n",
    "                        \"iteration\": str(iteration),\n",
    "                        \"move_number\": str(move_number),\n",
    "                    },\n",
    "                },\n",
    "                resp_payload=chat_completion,\n",
    "                status_code=200,\n",
    "            )\n",
    "        except Exception as e:\n",
    "            print(f\"Error reporting to OpenPipe: {e}\")\n",
    "\n",
    "        choice = chat_completion.choices[0]\n",
    "        choice.completion_id = chat_completion.id\n",
    "        content = choice.message.content\n",
    "        assert isinstance(content, str)\n",
    "        trajectory.messages_and_choices.append(choice)\n",
    "\n",
    "        num_empty_cells_this_turn = check_num_empty_cells(game)\n",
    "\n",
    "        try:\n",
    "            apply_agent_move(game, content)\n",
    "            move_number += 1\n",
    "        except ValueError:\n",
    "            trajectory.reward = -1\n",
    "            # remove all other trajectories to avoid giving negative reward for valid moves\n",
    "            trajectories = [trajectory]\n",
    "            break\n",
    "\n",
    "        if len(trajectories) > 1:\n",
    "            reward_for_immediately_condensing_cells = num_empty_cells_two_turns_ago - num_empty_cells_one_turn_ago\n",
    "            reward_for_condensing_cells_next_turn = num_empty_cells_two_turns_ago - num_empty_cells_this_turn\n",
    "\n",
    "            trajectories[-2].reward = (reward_for_immediately_condensing_cells + reward_for_condensing_cells_next_turn) / 32\n",
    "\n",
    "        num_empty_cells_two_turns_ago = num_empty_cells_one_turn_ago\n",
    "        num_empty_cells_one_turn_ago = num_empty_cells_this_turn\n",
    "\n",
    "        if check_game_finished(game):\n",
    "            max_value = max_cell_value(game)\n",
    "\n",
    "            if max_value < WINNING_VALUE:\n",
    "                # scale reward logarithmically between 0 for 2 and 1 for 2048\n",
    "                game_outcome_reward = (math.log(max_value, 2) - 1) / (math.log(WINNING_VALUE, 2) - 1)\n",
    "            else:\n",
    "                # double reward if it wins\n",
    "                game_outcome_reward = 2\n",
    "            break\n",
    "\n",
    "    for trajectory in trajectories:\n",
    "        # add reward for winning\n",
    "        trajectory.reward += game_outcome_reward\n",
    "    \n",
    "    try:\n",
    "        op_client.update_log_metadata(\n",
    "            filters=[\n",
    "                {\n",
    "                    \"field\": \"completionId\",\n",
    "                    \"equals\": last_completion.id,\n",
    "                }\n",
    "            ],\n",
    "            metadata={\n",
    "                \"reward\": str(trajectories[-1].reward),\n",
    "                \"final_trajectory\": \"true\",\n",
    "            }\n",
    "        )\n",
    "    except Exception as e:\n",
    "        print(f\"Error updating log metadata: {e}\")\n",
    "\n",
    "    report_trajectory_rewards(trajectories)\n",
    "\n",
    "    return trajectories\n",
    "\n",
    "persistent_client = None\n",
    "\n",
    "openai_client = await model.openai_client()\n",
    "\n",
    "for i in range(await model.get_iteration(), 500):\n",
    "    train_groups = await art.gather_trajectories(\n",
    "        (\n",
    "            rollout(openai_client, i) for _ in range(12)\n",
    "        ),\n",
    "        pbar_desc=\"train\",\n",
    "        return_exceptions=False,\n",
    "    )\n",
    "\n",
    "    # get last trajectory from each group\n",
    "    final_trajectories = [group[-1] for group in train_groups]\n",
    "\n",
    "    # report average reward of final trajectories to wandb\n",
    "    api._log_wandb_data(\n",
    "        model,\n",
    "        {\n",
    "            \"game_outcome_reward\": sum([t.reward for t in final_trajectories]) / len(final_trajectories),\n",
    "        }, \n",
    "        \"train\",\n",
    "    )\n",
    "\n",
    "    # combine train_groups into a single list\n",
    "    train_groups = [[item for sublist in train_groups for item in sublist]]\n",
    "\n",
    "    await model.clear_iterations()\n",
    "    await model.tune(\n",
    "        train_groups, config=art.TuneConfig(lr=3e-5)\n",
    "    )"
   ]
  }
 ],
 "metadata": {
  "kernelspec": {
   "display_name": ".venv",
   "language": "python",
   "name": "python3"
  },
  "language_info": {
   "codemirror_mode": {
    "name": "ipython",
    "version": 3
   },
   "file_extension": ".py",
   "mimetype": "text/x-python",
   "name": "python",
   "nbconvert_exporter": "python",
   "pygments_lexer": "ipython3",
   "version": "3.12.9"
  }
 },
 "nbformat": 4,
 "nbformat_minor": 2
}
