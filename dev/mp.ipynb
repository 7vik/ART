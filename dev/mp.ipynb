{
 "cells": [
  {
   "cell_type": "code",
   "execution_count": null,
   "metadata": {},
   "outputs": [
    {
     "name": "stdout",
     "output_type": "stream",
     "text": [
      "🦥 Unsloth: Will patch your computer to enable 2x faster free finetuning.\n",
      "🦥 Unsloth Zoo will now patch everything to make training faster!\n",
      "INFO 03-29 16:46:14 __init__.py:207] Automatically detected platform cuda.\n"
     ]
    }
   ],
   "source": [
    "from mp_actors import move_to_child_process\n",
    "import asyncio\n",
    "\n",
    "\n",
    "class Service:\n",
    "    async def load_unsloth(self) -> None:\n",
    "        import unsloth\n",
    "\n",
    "    async def greet(self, name: str, sleep: float) -> str:\n",
    "        await asyncio.sleep(sleep)\n",
    "        return f\"Hello, {name}!\"\n",
    "\n",
    "\n",
    "service = Service()\n",
    "service = move_to_child_process(service)"
   ]
  },
  {
   "cell_type": "code",
   "execution_count": 2,
   "metadata": {},
   "outputs": [
    {
     "data": {
      "text/plain": [
       "'Hello, World!'"
      ]
     },
     "execution_count": 2,
     "metadata": {},
     "output_type": "execute_result"
    }
   ],
   "source": [
    "await service.load_unsloth()\n",
    "await service.greet(\"World\", 1.0)"
   ]
  }
 ],
 "metadata": {
  "kernelspec": {
   "display_name": ".venv",
   "language": "python",
   "name": "python3"
  },
  "language_info": {
   "codemirror_mode": {
    "name": "ipython",
    "version": 3
   },
   "file_extension": ".py",
   "mimetype": "text/x-python",
   "name": "python",
   "nbconvert_exporter": "python",
   "pygments_lexer": "ipython3",
   "version": "3.12.9"
  }
 },
 "nbformat": 4,
 "nbformat_minor": 2
}
