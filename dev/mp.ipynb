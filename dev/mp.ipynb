{
 "cells": [
  {
   "cell_type": "code",
   "execution_count": 1,
   "metadata": {},
   "outputs": [],
   "source": [
    "from mp_actors import move_to_child_process\n",
    "import asyncio\n",
    "\n",
    "\n",
    "class Service:\n",
    "    async def load_unsloth(self) -> None:\n",
    "        import unsloth\n",
    "\n",
    "    async def greet(self, name: str, sleep: float) -> str:\n",
    "        await asyncio.sleep(sleep)\n",
    "        return f\"Hello, {name}!\"\n",
    "\n",
    "    def raise_error(self) -> None:\n",
    "        raise ValueError(\"This is a test error\")\n",
    "\n",
    "\n",
    "service = Service()\n",
    "service = move_to_child_process(service)"
   ]
  },
  {
   "cell_type": "code",
   "execution_count": 2,
   "metadata": {},
   "outputs": [
    {
     "ename": "ValueError",
     "evalue": "This is a test error",
     "output_type": "error",
     "traceback": [
      "\u001b[31m---------------------------------------------------------------------------\u001b[39m",
      "\u001b[31mValueError\u001b[39m                                Traceback (most recent call last)",
      "\u001b[36mCell\u001b[39m\u001b[36m \u001b[39m\u001b[32mIn[2]\u001b[39m\u001b[32m, line 1\u001b[39m\n\u001b[32m----> \u001b[39m\u001b[32m1\u001b[39m \u001b[43mservice\u001b[49m\u001b[43m.\u001b[49m\u001b[43mraise_error\u001b[49m\u001b[43m(\u001b[49m\u001b[43m)\u001b[49m\n",
      "\u001b[36mFile \u001b[39m\u001b[32m~/sky_workdir/src/mp_actors/traceback.py:20\u001b[39m, in \u001b[36mstreamline_tracebacks.<locals>.decorator.<locals>.wrapper\u001b[39m\u001b[34m(*args, **kwargs)\u001b[39m\n\u001b[32m     18\u001b[39m     \u001b[38;5;28;01mreturn\u001b[39;00m func(*args, **kwargs)\n\u001b[32m     19\u001b[39m \u001b[38;5;28;01mexcept\u001b[39;00m \u001b[38;5;167;01mException\u001b[39;00m \u001b[38;5;28;01mas\u001b[39;00m e:\n\u001b[32m---> \u001b[39m\u001b[32m20\u001b[39m     \u001b[38;5;28;01mraise\u001b[39;00m e.with_traceback(streamlined_traceback())\n",
      "\u001b[36mCell\u001b[39m\u001b[36m \u001b[39m\u001b[32mIn[1]\u001b[39m\u001b[32m, line 14\u001b[39m, in \u001b[36mraise_error\u001b[39m\u001b[34m()\u001b[39m\n\u001b[32m     13\u001b[39m \u001b[38;5;28;01mdef\u001b[39;00m\u001b[38;5;250m \u001b[39m\u001b[34mraise_error\u001b[39m(\u001b[38;5;28mself\u001b[39m) -> \u001b[38;5;28;01mNone\u001b[39;00m:\n\u001b[32m---> \u001b[39m\u001b[32m14\u001b[39m     \u001b[38;5;28;01mraise\u001b[39;00m \u001b[38;5;167;01mValueError\u001b[39;00m(\u001b[33m\"\u001b[39m\u001b[33mThis is a test error\u001b[39m\u001b[33m\"\u001b[39m)\n",
      "\u001b[31mValueError\u001b[39m: This is a test error"
     ]
    }
   ],
   "source": [
    "service.raise_error()"
   ]
  },
  {
   "cell_type": "code",
   "execution_count": null,
   "metadata": {},
   "outputs": [
    {
     "data": {
      "text/plain": [
       "'/tmp/ipykernel_153850/1131703420.py'"
      ]
     },
     "metadata": {},
     "output_type": "display_data"
    },
    {
     "name": "stdout",
     "output_type": "stream",
     "text": [
      "/home/gcpuser/sky_workdir/src/mp_actors/move.py\n"
     ]
    },
    {
     "ename": "ValueError",
     "evalue": "This is a test error",
     "output_type": "error",
     "traceback": [
      "\u001b[31m---------------------------------------------------------------------------\u001b[39m",
      "\u001b[31mValueError\u001b[39m                                Traceback (most recent call last)",
      "\u001b[36mCell\u001b[39m\u001b[36m \u001b[39m\u001b[32mIn[4]\u001b[39m\u001b[32m, line 46\u001b[39m\n\u001b[32m     43\u001b[39m \u001b[38;5;28;01massert\u001b[39;00m traceback\n\u001b[32m     44\u001b[39m display(traceback.tb_frame.f_code.co_filename)\n\u001b[32m---> \u001b[39m\u001b[32m46\u001b[39m \u001b[38;5;28;01mraise\u001b[39;00m e.with_traceback(get_traceback(traceback))\n",
      "\u001b[36mCell\u001b[39m\u001b[36m \u001b[39m\u001b[32mIn[4]\u001b[39m\u001b[32m, line 40\u001b[39m\n\u001b[32m     31\u001b[39m     \u001b[38;5;28;01mreturn\u001b[39;00m types.TracebackType(\n\u001b[32m     32\u001b[39m         child_traceback[\u001b[32m0\u001b[39m],\n\u001b[32m     33\u001b[39m         parent_traceback.tb_frame,\n\u001b[32m     34\u001b[39m         parent_traceback.tb_lasti,\n\u001b[32m     35\u001b[39m         parent_traceback.tb_lineno,\n\u001b[32m     36\u001b[39m     )\n\u001b[32m     39\u001b[39m \u001b[38;5;28;01mtry\u001b[39;00m:\n\u001b[32m---> \u001b[39m\u001b[32m40\u001b[39m     \u001b[43mservice\u001b[49m\u001b[43m.\u001b[49m\u001b[43mraise_error\u001b[49m\u001b[43m(\u001b[49m\u001b[43m)\u001b[49m\n\u001b[32m     41\u001b[39m \u001b[38;5;28;01mexcept\u001b[39;00m \u001b[38;5;167;01mValueError\u001b[39;00m \u001b[38;5;28;01mas\u001b[39;00m e:\n\u001b[32m     42\u001b[39m     traceback = sys.exc_info()[\u001b[32m2\u001b[39m]\n",
      "\u001b[36mCell\u001b[39m\u001b[36m \u001b[39m\u001b[32mIn[1]\u001b[39m\u001b[32m, line 14\u001b[39m, in \u001b[36mraise_error\u001b[39m\u001b[34m()\u001b[39m\n\u001b[32m     13\u001b[39m \u001b[38;5;28;01mdef\u001b[39;00m\u001b[38;5;250m \u001b[39m\u001b[34mraise_error\u001b[39m(\u001b[38;5;28mself\u001b[39m) -> \u001b[38;5;28;01mNone\u001b[39;00m:\n\u001b[32m---> \u001b[39m\u001b[32m14\u001b[39m     \u001b[38;5;28;01mraise\u001b[39;00m \u001b[38;5;167;01mValueError\u001b[39;00m(\u001b[33m\"\u001b[39m\u001b[33mThis is a test error\u001b[39m\u001b[33m\"\u001b[39m)\n",
      "\u001b[31mValueError\u001b[39m: This is a test error"
     ]
    }
   ],
   "source": [
    "import sys\n",
    "import types\n",
    "\n",
    "\n",
    "def get_child_traceback(\n",
    "    traceback: types.TracebackType,\n",
    ") -> tuple[types.TracebackType, bool]:\n",
    "    if not traceback.tb_next:\n",
    "        return traceback, False\n",
    "    next_traceback, mp_actor_code = get_child_traceback(traceback.tb_next)\n",
    "    if mp_actor_code:\n",
    "        return next_traceback, True\n",
    "    elif \"/mp_actors/\" in traceback.tb_frame.f_code.co_filename:\n",
    "        return next_traceback, True\n",
    "    return traceback, False\n",
    "\n",
    "\n",
    "def get_parent_traceback(traceback: types.TracebackType) -> types.TracebackType:\n",
    "    while traceback.tb_next:\n",
    "        filename = traceback.tb_next.tb_frame.f_code.co_filename\n",
    "        print(filename)\n",
    "        if \"/mp_actors/\" in filename:\n",
    "            return traceback\n",
    "        traceback = traceback.tb_next\n",
    "    return traceback\n",
    "\n",
    "\n",
    "def get_traceback(traceback: types.TracebackType) -> types.TracebackType:\n",
    "    parent_traceback = get_parent_traceback(traceback)\n",
    "    child_traceback, _ = get_child_traceback(parent_traceback)\n",
    "    return types.TracebackType(\n",
    "        child_traceback,\n",
    "        parent_traceback.tb_frame,\n",
    "        parent_traceback.tb_lasti,\n",
    "        parent_traceback.tb_lineno,\n",
    "    )\n",
    "\n",
    "\n",
    "try:\n",
    "    service.raise_error()\n",
    "except ValueError as e:\n",
    "    traceback = sys.exc_info()[2]\n",
    "    assert traceback\n",
    "    display(traceback.tb_frame.f_code.co_filename)\n",
    "\n",
    "    raise e.with_traceback(get_traceback(traceback))"
   ]
  },
  {
   "cell_type": "code",
   "execution_count": 2,
   "metadata": {},
   "outputs": [
    {
     "data": {
      "text/plain": [
       "'Hello, World!'"
      ]
     },
     "execution_count": 2,
     "metadata": {},
     "output_type": "execute_result"
    }
   ],
   "source": [
    "await service.load_unsloth()\n",
    "await service.greet(\"World\", 1.0)"
   ]
  }
 ],
 "metadata": {
  "kernelspec": {
   "display_name": ".venv",
   "language": "python",
   "name": "python3"
  },
  "language_info": {
   "codemirror_mode": {
    "name": "ipython",
    "version": 3
   },
   "file_extension": ".py",
   "mimetype": "text/x-python",
   "name": "python",
   "nbconvert_exporter": "python",
   "pygments_lexer": "ipython3",
   "version": "3.12.9"
  }
 },
 "nbformat": 4,
 "nbformat_minor": 2
}
