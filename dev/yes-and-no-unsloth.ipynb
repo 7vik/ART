{
 "cells": [
  {
   "cell_type": "code",
   "execution_count": 1,
   "metadata": {},
   "outputs": [],
   "source": [
    "%load_ext autoreload\n",
    "%autoreload 2"
   ]
  },
  {
   "cell_type": "code",
   "execution_count": 2,
   "metadata": {},
   "outputs": [
    {
     "data": {
      "text/html": [
       "<style>\n",
       ".cell-output-ipywidget-background {\n",
       "    background-color: transparent !important;\n",
       "}\n",
       ":root {\n",
       "    --jp-widgets-color: var(--vscode-editor-foreground);\n",
       "    --jp-widgets-font-size: var(--vscode-editor-font-size);\n",
       "}  \n",
       "</style>\n"
      ],
      "text/plain": [
       "<IPython.core.display.HTML object>"
      ]
     },
     "metadata": {},
     "output_type": "display_data"
    }
   ],
   "source": [
    "%%html\n",
    "<style>\n",
    ".cell-output-ipywidget-background {\n",
    "    background-color: transparent !important;\n",
    "}\n",
    ":root {\n",
    "    --jp-widgets-color: var(--vscode-editor-foreground);\n",
    "    --jp-widgets-font-size: var(--vscode-editor-font-size);\n",
    "}  \n",
    "</style>"
   ]
  },
  {
   "cell_type": "code",
   "execution_count": 3,
   "metadata": {},
   "outputs": [
    {
     "name": "stdout",
     "output_type": "stream",
     "text": [
      "🦥 Unsloth: Will patch your computer to enable 2x faster free finetuning.\n",
      "🦥 Unsloth Zoo will now patch everything to make training faster!\n",
      "🦥 Unsloth: Will patch your computer to enable 2x faster free finetuning.\n",
      "🦥 Unsloth Zoo will now patch everything to make training faster!\n",
      "==((====))==  Unsloth 2025.3.18: Fast Qwen2 patching. Transformers: 4.49.0. vLLM: 0.7.3.\n",
      "   \\\\   /|    NVIDIA H100 80GB HBM3. Num GPUs = 1. Max memory: 79.109 GB. Platform: Linux.\n",
      "O^O/ \\_/ \\    Torch: 2.5.1+cu124. CUDA: 9.0. CUDA Toolkit: 12.4. Triton: 3.1.0\n",
      "\\        /    Bfloat16 = TRUE. FA [Xformers = 0.0.28.post3. FA2 = False]\n",
      " \"-____-\"     Free license: http://github.com/unslothai/unsloth\n",
      "Unsloth: Fast downloading is enabled - ignore downloading bars which are red colored!\n",
      "Unsloth: vLLM loading unsloth/qwen2.5-14b-instruct-unsloth-bnb-4bit with actual GPU utilization = 61.13%\n",
      "Unsloth: Your GPU has CUDA compute capability 9.0 with VRAM = 79.11 GB.\n",
      "Unsloth: Using conservativeness = 1.0. Chunked prefill tokens = 8192. Num Sequences = 320.\n",
      "Unsloth: vLLM's KV Cache can use up to 37.51 GB. Also swap space = 6 GB.\n",
      "Unsloth: vLLM Bitsandbytes config using kwargs = {'load_in_8bit': False, 'load_in_4bit': True, 'bnb_4bit_compute_dtype': 'bfloat16', 'bnb_4bit_quant_storage': 'uint8', 'bnb_4bit_quant_type': 'nf4', 'bnb_4bit_use_double_quant': True, 'llm_int8_enable_fp32_cpu_offload': False, 'llm_int8_has_fp16_weight': False, 'llm_int8_skip_modules': ['lm_head', 'multi_modal_projector', 'merger', 'modality_projection', 'model.layers.5.mlp', 'model.layers.24.mlp', 'model.layers.44.mlp', 'model.layers.46.mlp', 'model.layers.23.self_attn'], 'llm_int8_threshold': 6.0}\n"
     ]
    },
    {
     "name": "stderr",
     "output_type": "stream",
     "text": [
      "[W329 18:33:40.197169324 CUDAAllocatorConfig.h:28] Warning: expandable_segments not supported on this platform (function operator())\n",
      "Loading safetensors checkpoint shards:   0% Completed | 0/3 [00:00<?, ?it/s]\n",
      "Loading safetensors checkpoint shards:  33% Completed | 1/3 [00:00<00:01,  1.24it/s]\n",
      "Loading safetensors checkpoint shards:  67% Completed | 2/3 [00:01<00:00,  1.21it/s]\n",
      "Loading safetensors checkpoint shards: 100% Completed | 3/3 [00:01<00:00,  1.79it/s]\n",
      "Loading safetensors checkpoint shards: 100% Completed | 3/3 [00:01<00:00,  1.59it/s]\n",
      "\n",
      "Loading safetensors checkpoint shards:   0% Completed | 0/3 [00:00<?, ?it/s]\n",
      "Loading safetensors checkpoint shards:  33% Completed | 1/3 [00:00<00:01,  1.18it/s]\n",
      "Loading safetensors checkpoint shards:  67% Completed | 2/3 [00:01<00:00,  1.17it/s]\n",
      "Loading safetensors checkpoint shards: 100% Completed | 3/3 [00:01<00:00,  1.74it/s]\n",
      "Loading safetensors checkpoint shards: 100% Completed | 3/3 [00:01<00:00,  1.54it/s]\n",
      "\n",
      "Capturing CUDA graph shapes: 100%|██████████| 43/43 [00:33<00:00,  1.29it/s]\n",
      "Unsloth 2025.3.18 patched 48 layers with 48 QKV layers, 48 O layers and 48 MLP layers.\n"
     ]
    },
    {
     "ename": "FileNotFoundError",
     "evalue": "[Errno 2] No such file or directory: './.art/models/yes-or-no-unsloth-001/logs/vllm.log'",
     "output_type": "error",
     "traceback": [
      "\u001b[31m---------------------------------------------------------------------------\u001b[39m",
      "\u001b[31mFileNotFoundError\u001b[39m                         Traceback (most recent call last)",
      "\u001b[36mCell\u001b[39m\u001b[36m \u001b[39m\u001b[32mIn[3]\u001b[39m\u001b[32m, line 39\u001b[39m\n\u001b[32m     35\u001b[39m         reward = \u001b[32m0.0\u001b[39m\n\u001b[32m     36\u001b[39m     \u001b[38;5;28;01mreturn\u001b[39;00m art.Trajectory(messages_and_choices=[*messages, choice], reward=reward)\n\u001b[32m---> \u001b[39m\u001b[32m39\u001b[39m \u001b[38;5;28;01masync\u001b[39;00m \u001b[38;5;28;01mwith\u001b[39;00m model.openai_client(\n\u001b[32m     40\u001b[39m     estimated_completion_tokens=\u001b[32m16\u001b[39m, verbosity=\u001b[32m2\u001b[39m\n\u001b[32m     41\u001b[39m ) \u001b[38;5;28;01mas\u001b[39;00m openai_client:\n\u001b[32m     42\u001b[39m     \u001b[38;5;28;01mfor\u001b[39;00m i \u001b[38;5;129;01min\u001b[39;00m \u001b[38;5;28mrange\u001b[39m(\u001b[38;5;28;01mawait\u001b[39;00m model.get_iteration(), \u001b[32m1_000\u001b[39m):\n\u001b[32m     43\u001b[39m         train_groups = \u001b[38;5;28;01mawait\u001b[39;00m art.gather_trajectories(\n\u001b[32m     44\u001b[39m             (\n\u001b[32m     45\u001b[39m                 (rollout(openai_client, prompt) \u001b[38;5;28;01mfor\u001b[39;00m _ \u001b[38;5;129;01min\u001b[39;00m \u001b[38;5;28mrange\u001b[39m(\u001b[32m32\u001b[39m))\n\u001b[32m   (...)\u001b[39m\u001b[32m     64\u001b[39m             stream_chat_completions=\u001b[32m8\u001b[39m,\n\u001b[32m     65\u001b[39m         )\n",
      "\u001b[36mFile \u001b[39m\u001b[32m~/.local/share/uv/python/cpython-3.12.9-linux-x86_64-gnu/lib/python3.12/contextlib.py:210\u001b[39m, in \u001b[36m_AsyncGeneratorContextManager.__aenter__\u001b[39m\u001b[34m(self)\u001b[39m\n\u001b[32m    208\u001b[39m \u001b[38;5;28;01mdel\u001b[39;00m \u001b[38;5;28mself\u001b[39m.args, \u001b[38;5;28mself\u001b[39m.kwds, \u001b[38;5;28mself\u001b[39m.func\n\u001b[32m    209\u001b[39m \u001b[38;5;28;01mtry\u001b[39;00m:\n\u001b[32m--> \u001b[39m\u001b[32m210\u001b[39m     \u001b[38;5;28;01mreturn\u001b[39;00m \u001b[38;5;28;01mawait\u001b[39;00m anext(\u001b[38;5;28mself\u001b[39m.gen)\n\u001b[32m    211\u001b[39m \u001b[38;5;28;01mexcept\u001b[39;00m \u001b[38;5;167;01mStopAsyncIteration\u001b[39;00m:\n\u001b[32m    212\u001b[39m     \u001b[38;5;28;01mraise\u001b[39;00m \u001b[38;5;167;01mRuntimeError\u001b[39;00m(\u001b[33m\"\u001b[39m\u001b[33mgenerator didn\u001b[39m\u001b[33m'\u001b[39m\u001b[33mt yield\u001b[39m\u001b[33m\"\u001b[39m) \u001b[38;5;28;01mfrom\u001b[39;00m\u001b[38;5;250m \u001b[39m\u001b[38;5;28;01mNone\u001b[39;00m\n",
      "\u001b[36mFile \u001b[39m\u001b[32m~/sky_workdir/src/art/model.py:44\u001b[39m, in \u001b[36mModel.openai_client\u001b[39m\u001b[34m(self, estimated_completion_tokens, tool_use, verbosity)\u001b[39m\n\u001b[32m     19\u001b[39m \u001b[38;5;129m@asynccontextmanager\u001b[39m\n\u001b[32m     20\u001b[39m \u001b[38;5;28;01masync\u001b[39;00m \u001b[38;5;28;01mdef\u001b[39;00m\u001b[38;5;250m \u001b[39m\u001b[34mopenai_client\u001b[39m(\n\u001b[32m     21\u001b[39m     \u001b[38;5;28mself\u001b[39m,\n\u001b[32m   (...)\u001b[39m\u001b[32m     24\u001b[39m     verbosity: Verbosity = \u001b[32m1\u001b[39m,\n\u001b[32m     25\u001b[39m ) -> AsyncGenerator[AsyncOpenAI, \u001b[38;5;28;01mNone\u001b[39;00m]:\n\u001b[32m     26\u001b[39m \u001b[38;5;250m    \u001b[39m\u001b[33;03m\"\"\"\u001b[39;00m\n\u001b[32m     27\u001b[39m \u001b[33;03m    Context manager for an OpenAI client to a managed inference service.\u001b[39;00m\n\u001b[32m     28\u001b[39m \n\u001b[32m   (...)\u001b[39m\u001b[32m     42\u001b[39m \u001b[33;03m            )\u001b[39;00m\n\u001b[32m     43\u001b[39m \u001b[33;03m    \"\"\"\u001b[39;00m\n\u001b[32m---> \u001b[39m\u001b[32m44\u001b[39m     client, semaphore = \u001b[38;5;28;01mawait\u001b[39;00m \u001b[38;5;28mself\u001b[39m.api._get_openai_client(\n\u001b[32m     45\u001b[39m         \u001b[38;5;28mself\u001b[39m, estimated_completion_tokens, tool_use, verbosity\n\u001b[32m     46\u001b[39m     )\n\u001b[32m     47\u001b[39m     \u001b[38;5;28;01mtry\u001b[39;00m:\n\u001b[32m     48\u001b[39m         \u001b[38;5;28;01myield\u001b[39;00m patch_openai(client, semaphore)\n",
      "\u001b[36mFile \u001b[39m\u001b[32m~/sky_workdir/src/art/unsloth/api.py:206\u001b[39m, in \u001b[36mUnslothAPI._get_openai_client\u001b[39m\u001b[34m(self, model, estimated_completion_tokens, tool_use, verbosity)\u001b[39m\n\u001b[32m    191\u001b[39m service = \u001b[38;5;28;01mawait\u001b[39;00m \u001b[38;5;28mself\u001b[39m._get_service(model)\n\u001b[32m    192\u001b[39m \u001b[38;5;28;01mawait\u001b[39;00m service.start_openai_server(StartOpenaiServer(tool_use=tool_use))\n\u001b[32m    193\u001b[39m \u001b[38;5;28;01mreturn\u001b[39;00m (\n\u001b[32m    194\u001b[39m     AsyncOpenAI(\n\u001b[32m    195\u001b[39m         base_url=\u001b[33mf\u001b[39m\u001b[33m\"\u001b[39m\u001b[33mhttp://localhost:\u001b[39m\u001b[38;5;132;01m{\u001b[39;00mservice.port\u001b[38;5;250m \u001b[39m-\u001b[38;5;250m \u001b[39m\u001b[32m89\u001b[39m\u001b[38;5;132;01m}\u001b[39;00m\u001b[33m/v1\u001b[39m\u001b[33m\"\u001b[39m,\n\u001b[32m    196\u001b[39m         api_key=\u001b[33m\"\u001b[39m\u001b[33mdefault\u001b[39m\u001b[33m\"\u001b[39m,\n\u001b[32m    197\u001b[39m         http_client=DefaultAsyncHttpxClient(\n\u001b[32m    198\u001b[39m             timeout=httpx.Timeout(timeout=\u001b[32m1200\u001b[39m, connect=\u001b[32m5.0\u001b[39m),\n\u001b[32m    199\u001b[39m             limits=httpx.Limits(\n\u001b[32m    200\u001b[39m                 max_connections=\u001b[32m100_000\u001b[39m, max_keepalive_connections=\u001b[32m100_000\u001b[39m\n\u001b[32m    201\u001b[39m             ),\n\u001b[32m    202\u001b[39m         ),\n\u001b[32m    203\u001b[39m     ),\n\u001b[32m    204\u001b[39m     asyncio.Semaphore(\n\u001b[32m    205\u001b[39m         \u001b[38;5;28mint\u001b[39m(\n\u001b[32m--> \u001b[39m\u001b[32m206\u001b[39m             \u001b[43mmax_concurrent_tokens\u001b[49m\u001b[43m(\u001b[49m\n\u001b[32m    207\u001b[39m \u001b[43m                \u001b[49m\u001b[33;43m\"\u001b[39;49m\u001b[33;43m./logs/vllm.log\u001b[39;49m\u001b[33;43m\"\u001b[39;49m\n\u001b[32m    208\u001b[39m \u001b[43m                \u001b[49m\u001b[38;5;28;43;01mif\u001b[39;49;00m\u001b[43m \u001b[49m\u001b[38;5;28;43mself\u001b[39;49m\u001b[43m.\u001b[49m\u001b[43m_in_process\u001b[49m\n\u001b[32m    209\u001b[39m \u001b[43m                \u001b[49m\u001b[38;5;28;43;01melse\u001b[39;49;00m\u001b[43m \u001b[49m\u001b[33;43mf\u001b[39;49m\u001b[33;43m\"\u001b[39;49m\u001b[38;5;132;43;01m{\u001b[39;49;00m\u001b[38;5;28;43mself\u001b[39;49m\u001b[43m.\u001b[49m\u001b[43m_get_output_dir\u001b[49m\u001b[43m(\u001b[49m\u001b[43mmodel\u001b[49m\u001b[43m.\u001b[49m\u001b[43mname\u001b[49m\u001b[43m)\u001b[49m\u001b[38;5;132;43;01m}\u001b[39;49;00m\u001b[33;43m/logs/vllm.log\u001b[39;49m\u001b[33;43m\"\u001b[39;49m\n\u001b[32m    210\u001b[39m \u001b[43m            \u001b[49m\u001b[43m)\u001b[49m\n\u001b[32m    211\u001b[39m             / estimated_completion_tokens\n\u001b[32m    212\u001b[39m         )\n\u001b[32m    213\u001b[39m     ),\n\u001b[32m    214\u001b[39m )\n",
      "\u001b[36mFile \u001b[39m\u001b[32m~/sky_workdir/src/art/unsloth/vllm.py:32\u001b[39m, in \u001b[36mmax_concurrent_tokens\u001b[39m\u001b[34m(path)\u001b[39m\n\u001b[32m     31\u001b[39m \u001b[38;5;28;01mdef\u001b[39;00m\u001b[38;5;250m \u001b[39m\u001b[34mmax_concurrent_tokens\u001b[39m(path: \u001b[38;5;28mstr\u001b[39m) -> \u001b[38;5;28mint\u001b[39m:\n\u001b[32m---> \u001b[39m\u001b[32m32\u001b[39m     \u001b[38;5;28;01mwith\u001b[39;00m \u001b[38;5;28;43mopen\u001b[39;49m\u001b[43m(\u001b[49m\u001b[43mpath\u001b[49m\u001b[43m,\u001b[49m\u001b[43m \u001b[49m\u001b[33;43m\"\u001b[39;49m\u001b[33;43mr\u001b[39;49m\u001b[33;43m\"\u001b[39;49m\u001b[43m)\u001b[49m \u001b[38;5;28;01mas\u001b[39;00m f:\n\u001b[32m     33\u001b[39m         matches = re.findall(\n\u001b[32m     34\u001b[39m             \u001b[33mr\u001b[39m\u001b[33m\"\u001b[39m\u001b[33mMaximum concurrency for (\u001b[39m\u001b[33m\\\u001b[39m\u001b[33md+) tokens per request: ([\u001b[39m\u001b[33m\\\u001b[39m\u001b[33md.]+)x\u001b[39m\u001b[33m\"\u001b[39m,\n\u001b[32m     35\u001b[39m             f.read(),\n\u001b[32m     36\u001b[39m         )\n\u001b[32m     37\u001b[39m         \u001b[38;5;28;01mreturn\u001b[39;00m \u001b[38;5;28mint\u001b[39m(\u001b[38;5;28mint\u001b[39m(matches[-\u001b[32m1\u001b[39m][\u001b[32m0\u001b[39m]) * \u001b[38;5;28mfloat\u001b[39m(matches[-\u001b[32m1\u001b[39m][\u001b[32m1\u001b[39m]))\n",
      "\u001b[31mFileNotFoundError\u001b[39m: [Errno 2] No such file or directory: './.art/models/yes-or-no-unsloth-001/logs/vllm.log'"
     ]
    }
   ],
   "source": [
    "import art\n",
    "from dotenv import load_dotenv\n",
    "import openai\n",
    "\n",
    "load_dotenv()\n",
    "\n",
    "\n",
    "api = art.UnslothAPI(wandb_project=\"agent-reinforcement-training\")\n",
    "model = await api.get_or_create_model(\n",
    "    name=\"yes-or-no-unsloth-001\",\n",
    "    base_model=\"unsloth/Qwen2.5-14B-Instruct\",\n",
    ")\n",
    "\n",
    "\n",
    "async def rollout(client: openai.AsyncOpenAI, prompt: str) -> art.Trajectory:\n",
    "    messages: art.Messages = [\n",
    "        {\n",
    "            \"role\": \"user\",\n",
    "            \"content\": prompt,\n",
    "        }\n",
    "    ]\n",
    "    chat_completion = await client.chat.completions.create(\n",
    "        messages=messages, model=model.name, max_tokens=100\n",
    "    )\n",
    "    choice = chat_completion.choices[0]\n",
    "    content = choice.message.content\n",
    "    assert isinstance(content, str)\n",
    "    if content == \"yes\":\n",
    "        reward = 0.5\n",
    "    elif content == \"no\":\n",
    "        reward = 0.75\n",
    "    elif content == \"maybe\":\n",
    "        reward = 1.0\n",
    "    else:\n",
    "        reward = 0.0\n",
    "    return art.Trajectory(messages_and_choices=[*messages, choice], reward=reward)\n",
    "\n",
    "\n",
    "async with model.openai_client(\n",
    "    estimated_completion_tokens=16, verbosity=2\n",
    ") as openai_client:\n",
    "    for i in range(await model.get_iteration(), 1_000):\n",
    "        train_groups = await art.gather_trajectories(\n",
    "            (\n",
    "                (rollout(openai_client, prompt) for _ in range(32))\n",
    "                for prompt in [\n",
    "                    f\"{prefix} with {', '.join([f\"'{w}'\" if use_quotes else w for w in words]) if len(words) == 3 else f'{words[0]}' + (f' or {words[1]}' if len(words) > 1 else '')}\"\n",
    "                    for prefix in [\"respond\", \"just respond\"]\n",
    "                    for use_quotes in [True, False]\n",
    "                    for words in [\n",
    "                        [\"yes\", \"no\", \"maybe\"],\n",
    "                        [\"maybe\", \"yes\", \"no\"],\n",
    "                        [\"no\", \"yes\", \"maybe\"],\n",
    "                        [\"yes\", \"maybe\", \"no\"],\n",
    "                        [\"yes\", \"no\"],\n",
    "                        [\"maybe\", \"no\"],\n",
    "                        [\"no\", \"maybe\"],\n",
    "                        [\"no\", \"yes\"],\n",
    "                        [\"yes\", \"no\"],\n",
    "                    ]\n",
    "                ]\n",
    "            ),\n",
    "            pbar_desc=\"train\",\n",
    "            stream_chat_completions=8,\n",
    "        )\n",
    "        await model.tune(\n",
    "            train_groups,\n",
    "            config=art.TuneConfig(\n",
    "                lr=5e-5, sequence_length=8192, plot_tensors=False, verbosity=2\n",
    "            ),\n",
    "        )"
   ]
  }
 ],
 "metadata": {
  "kernelspec": {
   "display_name": ".venv",
   "language": "python",
   "name": "python3"
  },
  "language_info": {
   "codemirror_mode": {
    "name": "ipython",
    "version": 3
   },
   "file_extension": ".py",
   "mimetype": "text/x-python",
   "name": "python",
   "nbconvert_exporter": "python",
   "pygments_lexer": "ipython3",
   "version": "3.12.9"
  }
 },
 "nbformat": 4,
 "nbformat_minor": 2
}
